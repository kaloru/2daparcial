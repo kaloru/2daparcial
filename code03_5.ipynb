{
 "cells": [
  {
   "cell_type": "code",
   "execution_count": 2,
   "metadata": {},
   "outputs": [
    {
     "name": "stdout",
     "output_type": "stream",
     "text": [
      "<class 'function'>\n",
      "10\n"
     ]
    }
   ],
   "source": [
    "#Definir la funcion double\n",
    "def double (x: int) -> int:\n",
    "    return x * 2\n",
    "\n",
    "#aASignar la funcion double a la variable\n",
    "my_double = double\n",
    "print (type(my_double))\n",
    "\n",
    "#Llamar a la funcion a traves de la variable\n",
    "result= my_double(5)\n",
    "\n",
    "#imprimir el resultado\n",
    "print(result)"
   ]
  },
  {
   "cell_type": "code",
   "execution_count": null,
   "metadata": {},
   "outputs": [],
   "source": [
    "###2.1.4.2 PASO DE FUNCIONES COMO ARGUMENTOS"
   ]
  },
  {
   "cell_type": "code",
   "execution_count": 13,
   "metadata": {},
   "outputs": [
    {
     "name": "stdout",
     "output_type": "stream",
     "text": [
      "<class 'function'>\n",
      "100\n"
     ]
    }
   ],
   "source": [
    "#Definir la funcion double\n",
    "def double (x: int) -> int:\n",
    "    return x * 2\n",
    "\n",
    "#aASignar la funcion double a la variable\n",
    "my_double = double\n",
    "print (type(my_double))\n",
    "\n",
    "#Llamar a la funcion a traves de la variable\n",
    "doble= my_double(5)\n",
    "\n",
    "def cuad (f):\n",
    "    return f **2\n",
    "\n",
    "cuadrado = cuad(doble)\n",
    "\n",
    "print (cuadrado)"
   ]
  },
  {
   "cell_type": "code",
   "execution_count": 16,
   "metadata": {},
   "outputs": [
    {
     "ename": "TypeError",
     "evalue": "elevar_numeros() missing 1 required positional argument: 'cuad'",
     "output_type": "error",
     "traceback": [
      "\u001b[1;31m---------------------------------------------------------------------------\u001b[0m",
      "\u001b[1;31mTypeError\u001b[0m                                 Traceback (most recent call last)",
      "\u001b[1;32md:\\Semestres\\Tercer Semestre\\programacion_funcional\\code03.ipynb Cell 4\u001b[0m line \u001b[0;36m<cell line: 12>\u001b[1;34m()\u001b[0m\n\u001b[0;32m      <a href='vscode-notebook-cell:/d%3A/Semestres/Tercer%20Semestre/programacion_funcional/code03.ipynb#W4sZmlsZQ%3D%3D?line=7'>8</a>\u001b[0m         \u001b[39mreturn\u001b[39;00m Lista_cuadrados\n\u001b[0;32m     <a href='vscode-notebook-cell:/d%3A/Semestres/Tercer%20Semestre/programacion_funcional/code03.ipynb#W4sZmlsZQ%3D%3D?line=9'>10</a>\u001b[0m lista \u001b[39m=\u001b[39m [\u001b[39m1\u001b[39m,\u001b[39m2\u001b[39m,\u001b[39m3\u001b[39m,\u001b[39m4\u001b[39m,\u001b[39m5\u001b[39m]\n\u001b[1;32m---> <a href='vscode-notebook-cell:/d%3A/Semestres/Tercer%20Semestre/programacion_funcional/code03.ipynb#W4sZmlsZQ%3D%3D?line=11'>12</a>\u001b[0m \u001b[39mprint\u001b[39m(elevar_numeros(lista))\n",
      "\u001b[1;31mTypeError\u001b[0m: elevar_numeros() missing 1 required positional argument: 'cuad'"
     ]
    }
   ],
   "source": [
    "def cuad (n: int) -> int:\n",
    "    return n ** 2\n",
    "\n",
    "def elevar_numeros(lista,cuad):\n",
    "    Lista_cuadrados= []\n",
    "    for num in lista:\n",
    "        Lista_cuadrados.append(cuad(num))\n",
    "        return Lista_cuadrados\n",
    "\n",
    "lista = [1,2,3,4,5]\n",
    "\n",
    "print(elevar_numeros(lista))"
   ]
  },
  {
   "cell_type": "code",
   "execution_count": null,
   "metadata": {},
   "outputs": [],
   "source": []
  }
 ],
 "metadata": {
  "kernelspec": {
   "display_name": "Python 3",
   "language": "python",
   "name": "python3"
  },
  "language_info": {
   "codemirror_mode": {
    "name": "ipython",
    "version": 3
   },
   "file_extension": ".py",
   "mimetype": "text/x-python",
   "name": "python",
   "nbconvert_exporter": "python",
   "pygments_lexer": "ipython3",
   "version": "3.10.7"
  }
 },
 "nbformat": 4,
 "nbformat_minor": 2
}
