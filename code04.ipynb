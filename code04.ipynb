{
 "cells": [
  {
   "cell_type": "markdown",
   "metadata": {},
   "source": [
    "### 2.1.6 Documentación y Comentarios\n",
    "#### 2.1.6.1 Uso de docstrings para documentar funciones."
   ]
  },
  {
   "cell_type": "code",
   "execution_count": 1,
   "metadata": {},
   "outputs": [],
   "source": [
    "def suma(a, b):\n",
    "    \"\"\"\n",
    "    This function adds two numbers.\n",
    "\n",
    "    Parameters:\n",
    "    a (int): The first number.\n",
    "    b (int): The second number.\n",
    "\n",
    "    Returns:\n",
    "    int: The sum of a and b.\n",
    "    \"\"\"\n",
    "    return a + b\n",
    "\n",
    "def resta(a, b):\n",
    "    \"\"\"\n",
    "    This function subtracts two numbers.\n",
    "\n",
    "    Parameters:\n",
    "    a (int): The first number.\n",
    "    b (int): The second number.\n",
    "\n",
    "    Returns:\n",
    "    int: The difference between a and b.\n",
    "    \"\"\"\n",
    "    return a - b\n",
    "\n",
    "def multiplicacion(a, b):\n",
    "    \"\"\"\n",
    "    This function multiplies two numbers.\n",
    "\n",
    "    Parameters:\n",
    "    a (int): The first number.\n",
    "    b (int): The second number.\n",
    "\n",
    "    Returns:\n",
    "    int: The product of a and b.\n",
    "    \"\"\"\n",
    "    return a * b\n",
    "\n",
    "def division(a, b):\n",
    "    \"\"\"\n",
    "    This function divides two numbers.\n",
    "\n",
    "    Parameters:\n",
    "    a (int): The first number.\n",
    "    b (int): The second number.\n",
    "\n",
    "    Returns:\n",
    "    float: The quotient of a and b.\n",
    "    \"\"\"\n",
    "    return a / b\n"
   ]
  },
  {
   "cell_type": "code",
   "execution_count": 4,
   "metadata": {},
   "outputs": [
    {
     "name": "stdout",
     "output_type": "stream",
     "text": [
      "\n",
      "    This function adds two numbers.\n",
      "\n",
      "    Parameters:\n",
      "    a (int): The first number.\n",
      "    b (int): The second number.\n",
      "\n",
      "    Returns:\n",
      "    int: The sum of a and b.\n",
      "    \n"
     ]
    }
   ],
   "source": [
    "print(suma.__doc__)"
   ]
  },
  {
   "cell_type": "markdown",
   "metadata": {},
   "source": [
    "#### 2.1.6.2 Comentarios relevantes en el código.\n"
   ]
  },
  {
   "cell_type": "code",
   "execution_count": 6,
   "metadata": {},
   "outputs": [],
   "source": [
    "def suma(a, b):\n",
    "    \"\"\"\n",
    "    This function adds two numbers.\n",
    "\n",
    "    Parameters:\n",
    "    a (int): The first number.\n",
    "    b (int): The second number.\n",
    "\n",
    "    Returns:\n",
    "    int: The sum of a and b.\n",
    "    \"\"\"\n",
    "    # Check if both a and b are integers\n",
    "    if not isinstance(a, int) or not isinstance(b, int):\n",
    "        print(\"Both a and b should be integers.\")\n",
    "        return None\n",
    "    \n",
    "    # Add a and b\n",
    "    result = a + b\n",
    "    \n",
    "    # Print the result\n",
    "    print(f\"The sum of {a} and {b} is {result}.\")\n",
    "    \n",
    "    return result\n"
   ]
  },
  {
   "cell_type": "code",
   "execution_count": 9,
   "metadata": {},
   "outputs": [
    {
     "name": "stdout",
     "output_type": "stream",
     "text": [
      "6.0\n"
     ]
    }
   ],
   "source": [
    "print(suma(1.0,5))"
   ]
  },
  {
   "cell_type": "markdown",
   "metadata": {},
   "source": [
    "### 2.1.7 Módulos y Organización:**\n"
   ]
  },
  {
   "cell_type": "markdown",
   "metadata": {},
   "source": [
    "#### 2.1.7.1 Creación de módulos con funciones.\n",
    "1. Crear la carpeta calculadora\n",
    "2. Crear el archivo __init__.py\n",
    "3. Crear el archivo que tendrá las funciones: calculos.py\n",
    "4. Crear las funciones dentro de calculos.py\n",
    "\n"
   ]
  },
  {
   "cell_type": "markdown",
   "metadata": {},
   "source": [
    "#### 2.1.7.2 Importación de funciones desde módulos.\n"
   ]
  },
  {
   "cell_type": "markdown",
   "metadata": {},
   "source": [
    "### 2.1.8 Pruebas y Depuración:\n"
   ]
  },
  {
   "cell_type": "code",
   "execution_count": 16,
   "metadata": {},
   "outputs": [],
   "source": [
    "\n",
    "#import unittest\n",
    "\n",
    "\n",
    "def suma(a, b):\n",
    "    \"\"\"\n",
    "    This function adds two numbers.\n",
    "\n",
    "    Parameters:\n",
    "    a (int): The first number.\n",
    "    b (int): The second number.\n",
    "\n",
    "    Returns:\n",
    "    int: The sum of a and b.\n",
    "    \"\"\"\n",
    "    return a + b\n",
    "\n",
    "def resta(a, b):\n",
    "    \"\"\"\n",
    "    This function subtracts two numbers.\n",
    "\n",
    "    Parameters:\n",
    "    a (int): The first number.\n",
    "    b (int): The second number.\n",
    "\n",
    "    Returns:\n",
    "    int: The difference between a and b.\n",
    "    \"\"\"\n",
    "    return a - b\n",
    "\n",
    "assert suma(2, 3,) == 5, \"debería ser 5\"\n",
    "assert suma(-2, 3) == 1, \"debería ser 1\"\n",
    "assert suma(0, 0) == 0, \"debería ser 0\"\n",
    "assert suma(-3,-3) == -6, \"debería ser -6\"\n",
    "    \n",
    "assert resta(2, 3) == -1, \"debería ser -1\"\n",
    "assert resta(-2, 3) == -5, \"debería ser -5\"\n",
    "assert resta(0, 0) == 0, \"debería ser 0\"\n",
    "        "
   ]
  },
  {
   "cell_type": "markdown",
   "metadata": {},
   "source": [
    "#### 2.1.8.1 Escribir pruebas unitarias para funciones.\n"
   ]
  },
  {
   "cell_type": "markdown",
   "metadata": {},
   "source": [
    "#### 2.1.8.2 Uso de assertions."
   ]
  }
 ],
 "metadata": {
  "kernelspec": {
   "display_name": "Python 3",
   "language": "python",
   "name": "python3"
  },
  "language_info": {
   "codemirror_mode": {
    "name": "ipython",
    "version": 3
   },
   "file_extension": ".py",
   "mimetype": "text/x-python",
   "name": "python",
   "nbconvert_exporter": "python",
   "pygments_lexer": "ipython3",
   "version": "3.10.7"
  }
 },
 "nbformat": 4,
 "nbformat_minor": 2
}
