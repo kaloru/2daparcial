{
 "cells": [
  {
   "cell_type": "markdown",
   "metadata": {},
   "source": [
    "\n",
    "### 2.1.4 Funciones como Objetos\n"
   ]
  },
  {
   "cell_type": "markdown",
   "metadata": {},
   "source": [
    "\n",
    "#### 2.1.4.1 Asignación de funciones a variables.\n"
   ]
  },
  {
   "cell_type": "markdown",
   "metadata": {},
   "source": [
    "##### Escriba una función double que obtenga el doble de un valor mediante el uso de una variable."
   ]
  },
  {
   "cell_type": "code",
   "execution_count": 1,
   "metadata": {},
   "outputs": [
    {
     "name": "stdout",
     "output_type": "stream",
     "text": [
      "<class 'function'>\n",
      "10\n"
     ]
    }
   ],
   "source": [
    "# Definir la función double\n",
    "def double(x:int)->int:\n",
    "    return x * 2\n",
    "\n",
    "# Asignar la función double a la variable my_double\n",
    "my_double = double\n",
    "print(type(my_double))\n",
    "\n",
    "# Llamar a la función a través de la variable\n",
    "result = my_double(5)\n",
    "\n",
    "# Imprimir el resultado\n",
    "print(result)\n"
   ]
  },
  {
   "cell_type": "markdown",
   "metadata": {},
   "source": [
    "* Este programa define una función llamada `double` que toma un argumento `x` y devuelve el doble del mismo.\n",
    "* La función `double` se asigna a la variable `my_double`.\n",
    "* La función `my_double` se llama con el argumento 5 y el resultado se asigna a la variable `result`. \n",
    "* Finalmente, el programa imprime el valor de `result` en la pantalla, que es el resultado de llamar a la función `double` con el argumento 5."
   ]
  },
  {
   "cell_type": "markdown",
   "metadata": {},
   "source": [
    "\n",
    "#### 2.1.4.2 Paso de funciones como argumentos.\n"
   ]
  },
  {
   "cell_type": "markdown",
   "metadata": {},
   "source": [
    "##### Escriba un programa que mediante el uso de dos funciones: double() y cuad(), se pueda obtener el cuadrado del doble de un número entero. La función double debe ser usada como argumento de cuad."
   ]
  },
  {
   "cell_type": "code",
   "execution_count": 3,
   "metadata": {},
   "outputs": [
    {
     "name": "stdout",
     "output_type": "stream",
     "text": [
      "36\n"
     ]
    }
   ],
   "source": [
    "def double(x:int)->int:\n",
    "    return x * 2\n",
    "\n",
    "# Llamar a la función a través de la variable\n",
    "doble = double(3)\n",
    "\n",
    "def cuad(f):\n",
    "    return f ** 2\n",
    "\n",
    "cuadrado = cuad(doble)\n",
    "print(cuadrado)\n"
   ]
  },
  {
   "cell_type": "markdown",
   "metadata": {},
   "source": [
    "* Este programa define dos funciones, `double` y `cuad`\n",
    "* las utiliza para calcular el cuadrado del doble de un número. \n",
    "* Primero, la función `double` multiplica su argumento por 2 y lo devuelve.\n",
    "* Luego, la función `cuad` toma un argumento `f` y devuelve el cuadrado de `f`.\n",
    "* El programa asigna la función `double` a la variable `my_double`, llama a `my_double` con el argumento 5 y asigna el resultado a la variable `doble`.\n",
    "* Finalmente, el programa llama a `cuad` con `doble` como argumento y asigna el resultado a la variable `cuadrado`, que se imprime en pantalla."
   ]
  },
  {
   "cell_type": "markdown",
   "metadata": {},
   "source": [
    "##### Escriba ahora un programa que eleve una lista de números al cuadrado. La función se debe llamar elevar_numeros y debe recibir como argumento la lista y la función cuad, que es la que va a elevar el número al cuadrado."
   ]
  },
  {
   "cell_type": "code",
   "execution_count": 4,
   "metadata": {},
   "outputs": [
    {
     "name": "stdout",
     "output_type": "stream",
     "text": [
      "[1, 4, 9, 16, 25]\n"
     ]
    }
   ],
   "source": [
    "def cuad(n:int)->int:\n",
    "    return n ** 2\n",
    "\n",
    "\n",
    "def elevar_numeros(lista, cuad):\n",
    "    lista_cuadrados = []\n",
    "    for num in lista:\n",
    "        lista_cuadrados.append(cuad(num))\n",
    "    return lista_cuadrados\n",
    "\n",
    "\n",
    "lista = [1, 2, 3, 4, 5]\n",
    "print(elevar_numeros(lista, cuad))"
   ]
  },
  {
   "cell_type": "code",
   "execution_count": 5,
   "metadata": {},
   "outputs": [
    {
     "name": "stdout",
     "output_type": "stream",
     "text": [
      "[1, 4, 9, 16, 25]\n"
     ]
    }
   ],
   "source": [
    "def cuad(n:int)->int:\n",
    "    return n ** 2\n",
    "\n",
    "\n",
    "def elevar_numeros(lista):\n",
    "    lista_cuadrados = []\n",
    "    for num in lista:\n",
    "        lista_cuadrados.append(cuad(num))\n",
    "    return lista_cuadrados\n",
    "\n",
    "\n",
    "lista = [1, 2, 3, 4, 5]\n",
    "print(elevar_numeros(lista))"
   ]
  },
  {
   "cell_type": "code",
   "execution_count": 8,
   "metadata": {},
   "outputs": [
    {
     "name": "stdout",
     "output_type": "stream",
     "text": [
      "[1, 4, 9, 16, 25]\n"
     ]
    }
   ],
   "source": [
    "def elevar_numeros(lista):\n",
    "    lista_cuadrados = []\n",
    "    for num in lista:\n",
    "        lista_cuadrados.append((lambda x: x **2)(num))\n",
    "    return lista_cuadrados\n",
    "\n",
    "\n",
    "lista = [1, 2, 3, 4, 5]\n",
    "print(elevar_numeros(lista))"
   ]
  },
  {
   "cell_type": "markdown",
   "metadata": {},
   "source": [
    "* Este programa define dos funciones, `cuad` y `elevar_numeros`, se utilizan para calcular el cuadrado de cada número en una lista.\n",
    "* La función `cuad` toma un argumento `n` y devuelve el cuadrado de `n`.\n",
    "* La función `elevar_numeros` toma una lista y una función como argumentos, y devuelve una lista que contiene el resultado de aplicar la función a cada elemento de la lista original.\n",
    "* En este caso, la función `elevar_numeros` llama a la función `cuad` para cada número en la lista y devuelve una lista de los cuadrados correspondientes.\n",
    "* El programa crea una lista de números del 1 al 5, llama a la función `elevar_numeros` con la lista y la función `cuad` como argumentos, y luego imprime la lista resultante de cuadrados en la pantalla."
   ]
  },
  {
   "cell_type": "markdown",
   "metadata": {},
   "source": [
    "##### Escriba un programa que eleve a la potencia y cada uno de los elementos de una lista. Use la función elevar_números que reciba la lista y la potencia, y dentro de esta use la función potencia que se encargará de elevar a la potencia y cada elemento de la lista."
   ]
  },
  {
   "cell_type": "code",
   "execution_count": 13,
   "metadata": {},
   "outputs": [
    {
     "name": "stdout",
     "output_type": "stream",
     "text": [
      "[1, 4, 9, 16, 25]\n"
     ]
    }
   ],
   "source": [
    "def potencia(x,y): #pow(x,y)\n",
    "    for _ in range(y):\n",
    "        x = x * y\n",
    "    return x\n",
    "\n",
    "\n",
    "def elevar_numeros(lista, y):\n",
    "    lista_potencias = []\n",
    "    for num in lista:\n",
    "        lista_potencias.append(pow(num,y))\n",
    "    return lista_potencias\n",
    "\n",
    "\n",
    "lista = [1, 2, 3, 4, 5]\n",
    "print(elevar_numeros(lista, 2))\n"
   ]
  },
  {
   "cell_type": "markdown",
   "metadata": {},
   "source": [
    "* Este programa define dos funciones: `potencia` y `elevar_numeros`\n",
    "* Permite elevar cada número en una lista a una potencia dada.\n",
    "* La función `potencia` toma dos argumentos, `x` y `y`, y devuelve `x` elevado a la potencia `y`.\n",
    "* La función utiliza un ciclo `for` para multiplicar `x` por `y` `y` veces.\n",
    "* La función `elevar_numeros` toma una lista y un número `y` como argumentos, y devuelve una lista que contiene el resultado de elevar cada elemento de la lista a la potencia `y`.\n",
    "* La función `elevar_numeros` llama a la función `potencia` para cada número en la lista y agrega el resultado a una nueva lista.\n",
    "* El programa crea una lista de números del 1 al 5, llama a la función `elevar_numeros` con la lista y el número 2 como argumentos, y luego imprime la lista resultante de números elevados al cuadrado en la pantalla."
   ]
  },
  {
   "cell_type": "markdown",
   "metadata": {},
   "source": [
    "\n",
    "#### 2.1.4.3 Funciones anónimas (lambda functions).\n"
   ]
  },
  {
   "cell_type": "markdown",
   "metadata": {},
   "source": [
    "Las funciones lambda en Python son funciones anónimas que se pueden definir en una sola línea de código. \n",
    "\n",
    "- Las funciones lambda:\n",
    "    * se definen utilizando la palabra clave `lambda`, seguida de los argumentos de la función separados por comas y luego dos puntos.\n",
    "    * es una expresión que se evalúa y devuelve como resultado.\n",
    "    - son funciones anónimas, lo que significa que no tienen un nombre definido.\n",
    "    - se pueden asignar a una variable y luego llamar a través de esa variable.\n",
    "    - se utilizan comúnmente como argumentos de otras funciones, como `map()`, `filter()`, `reduce()`, etc.\n",
    "    - son útiles para escribir código más conciso y legible (cuando se trabaja con funciones simples y de una sola línea)"
   ]
  },
  {
   "cell_type": "code",
   "execution_count": 17,
   "metadata": {},
   "outputs": [
    {
     "name": "stdout",
     "output_type": "stream",
     "text": [
      "3\n"
     ]
    }
   ],
   "source": [
    "def identity(x):\n",
    "    return x\n",
    "\n",
    "print(identity(3))"
   ]
  },
  {
   "cell_type": "code",
   "execution_count": 17,
   "metadata": {},
   "outputs": [
    {
     "data": {
      "text/plain": [
       "5"
      ]
     },
     "execution_count": 17,
     "metadata": {},
     "output_type": "execute_result"
    }
   ],
   "source": [
    "lambda x: x\n",
    "#print((lambda x: x*2)(5))\n",
    "y = lambda x: x\n",
    "y(5)"
   ]
  },
  {
   "cell_type": "code",
   "execution_count": 22,
   "metadata": {},
   "outputs": [
    {
     "data": {
      "text/plain": [
       "4"
      ]
     },
     "execution_count": 22,
     "metadata": {},
     "output_type": "execute_result"
    }
   ],
   "source": [
    "cuadrado = lambda x: x+1\n",
    "cuadrado(3)"
   ]
  },
  {
   "cell_type": "code",
   "execution_count": 21,
   "metadata": {},
   "outputs": [
    {
     "data": {
      "text/plain": [
       "<function __main__.<lambda>(x)>"
      ]
     },
     "execution_count": 21,
     "metadata": {},
     "output_type": "execute_result"
    }
   ],
   "source": [
    "lambda x: x + 1"
   ]
  },
  {
   "cell_type": "code",
   "execution_count": 23,
   "metadata": {},
   "outputs": [
    {
     "data": {
      "text/plain": [
       "3"
      ]
     },
     "execution_count": 23,
     "metadata": {},
     "output_type": "execute_result"
    }
   ],
   "source": [
    "(lambda x: x + 1)(2)"
   ]
  },
  {
   "cell_type": "code",
   "execution_count": null,
   "metadata": {},
   "outputs": [],
   "source": [
    "# puede ser nombrada\n",
    "add_one = lambda x: x + 1\n",
    "add_one(2)"
   ]
  },
  {
   "cell_type": "code",
   "execution_count": null,
   "metadata": {},
   "outputs": [],
   "source": [
    "def add_one(x):\n",
    "    return x + 1"
   ]
  },
  {
   "cell_type": "code",
   "execution_count": 26,
   "metadata": {},
   "outputs": [
    {
     "data": {
      "text/plain": [
       "0.4"
      ]
     },
     "execution_count": 26,
     "metadata": {},
     "output_type": "execute_result"
    }
   ],
   "source": [
    "(lambda x,y: x/y)(10,y=1)\n",
    "\n",
    "def division(x,y=1):\n",
    "    return x/y\n",
    " \n",
    " \n",
    "division(5)   "
   ]
  },
  {
   "cell_type": "markdown",
   "metadata": {},
   "source": [
    "\n",
    "### 2.1.5 Recursión\n"
   ]
  },
  {
   "cell_type": "markdown",
   "metadata": {},
   "source": [
    "\n",
    "#### 2.1.5.1 Definición de funciones recursivas.\n"
   ]
  },
  {
   "cell_type": "markdown",
   "metadata": {},
   "source": [
    "* Una definición recursiva es aquella en la que el término definido aparece en la propia definición.\n",
    "* Capacidad de una función de llamarse a sí misma\n",
    "* La mayoría de los problemas de programación se pueden resolver sin recursividad. \n",
    "* Entonces... la recursividad no suele ser necesaria.\n",
    "--------\n",
    "* El recorrido de estructuras de datos en forma de árbol es un ejemplo.\n",
    "* Debido a que se trata de estructuras anidadas, se ajustan fácilmente a una definición recursiva.\n",
    "* Es probable que un algoritmo no recursivo para recorrer una estructura anidada sea algo burdo.\n",
    "* Una solución recursiva puede ser más elegante y eficiente.\n"
   ]
  },
  {
   "cell_type": "code",
   "execution_count": 3,
   "metadata": {},
   "outputs": [],
   "source": [
    "def f():\n",
    "    x = 10\n",
    "    f()"
   ]
  },
  {
   "cell_type": "code",
   "execution_count": 4,
   "metadata": {},
   "outputs": [
    {
     "ename": "RecursionError",
     "evalue": "maximum recursion depth exceeded",
     "output_type": "error",
     "traceback": [
      "\u001b[1;31m---------------------------------------------------------------------------\u001b[0m",
      "\u001b[1;31mRecursionError\u001b[0m                            Traceback (most recent call last)",
      "\u001b[1;32mc:\\Users\\walte\\OneDrive - Universidad de Colima\\Docencia\\2023\\Semestre_Agosto2023-Enero2024\\programación_funcional\\code\\2P_Base\\code03.ipynb Cell 31\u001b[0m line \u001b[0;36m1\n\u001b[1;32m----> <a href='vscode-notebook-cell:/c%3A/Users/walte/OneDrive%20-%20Universidad%20de%20Colima/Docencia/2023/Semestre_Agosto2023-Enero2024/programaci%C3%B3n_funcional/code/2P_Base/code03.ipynb#Y121sZmlsZQ%3D%3D?line=0'>1</a>\u001b[0m f()\n",
      "\u001b[1;32mc:\\Users\\walte\\OneDrive - Universidad de Colima\\Docencia\\2023\\Semestre_Agosto2023-Enero2024\\programación_funcional\\code\\2P_Base\\code03.ipynb Cell 31\u001b[0m line \u001b[0;36m3\n\u001b[0;32m      <a href='vscode-notebook-cell:/c%3A/Users/walte/OneDrive%20-%20Universidad%20de%20Colima/Docencia/2023/Semestre_Agosto2023-Enero2024/programaci%C3%B3n_funcional/code/2P_Base/code03.ipynb#Y121sZmlsZQ%3D%3D?line=0'>1</a>\u001b[0m \u001b[39mdef\u001b[39;00m \u001b[39mf\u001b[39m():\n\u001b[0;32m      <a href='vscode-notebook-cell:/c%3A/Users/walte/OneDrive%20-%20Universidad%20de%20Colima/Docencia/2023/Semestre_Agosto2023-Enero2024/programaci%C3%B3n_funcional/code/2P_Base/code03.ipynb#Y121sZmlsZQ%3D%3D?line=1'>2</a>\u001b[0m     x \u001b[39m=\u001b[39m \u001b[39m10\u001b[39m\n\u001b[1;32m----> <a href='vscode-notebook-cell:/c%3A/Users/walte/OneDrive%20-%20Universidad%20de%20Colima/Docencia/2023/Semestre_Agosto2023-Enero2024/programaci%C3%B3n_funcional/code/2P_Base/code03.ipynb#Y121sZmlsZQ%3D%3D?line=2'>3</a>\u001b[0m     f()\n",
      "\u001b[1;32mc:\\Users\\walte\\OneDrive - Universidad de Colima\\Docencia\\2023\\Semestre_Agosto2023-Enero2024\\programación_funcional\\code\\2P_Base\\code03.ipynb Cell 31\u001b[0m line \u001b[0;36m3\n\u001b[0;32m      <a href='vscode-notebook-cell:/c%3A/Users/walte/OneDrive%20-%20Universidad%20de%20Colima/Docencia/2023/Semestre_Agosto2023-Enero2024/programaci%C3%B3n_funcional/code/2P_Base/code03.ipynb#Y121sZmlsZQ%3D%3D?line=0'>1</a>\u001b[0m \u001b[39mdef\u001b[39;00m \u001b[39mf\u001b[39m():\n\u001b[0;32m      <a href='vscode-notebook-cell:/c%3A/Users/walte/OneDrive%20-%20Universidad%20de%20Colima/Docencia/2023/Semestre_Agosto2023-Enero2024/programaci%C3%B3n_funcional/code/2P_Base/code03.ipynb#Y121sZmlsZQ%3D%3D?line=1'>2</a>\u001b[0m     x \u001b[39m=\u001b[39m \u001b[39m10\u001b[39m\n\u001b[1;32m----> <a href='vscode-notebook-cell:/c%3A/Users/walte/OneDrive%20-%20Universidad%20de%20Colima/Docencia/2023/Semestre_Agosto2023-Enero2024/programaci%C3%B3n_funcional/code/2P_Base/code03.ipynb#Y121sZmlsZQ%3D%3D?line=2'>3</a>\u001b[0m     f()\n",
      "    \u001b[1;31m[... skipping similar frames: f at line 3 (2971 times)]\u001b[0m\n",
      "\u001b[1;32mc:\\Users\\walte\\OneDrive - Universidad de Colima\\Docencia\\2023\\Semestre_Agosto2023-Enero2024\\programación_funcional\\code\\2P_Base\\code03.ipynb Cell 31\u001b[0m line \u001b[0;36m3\n\u001b[0;32m      <a href='vscode-notebook-cell:/c%3A/Users/walte/OneDrive%20-%20Universidad%20de%20Colima/Docencia/2023/Semestre_Agosto2023-Enero2024/programaci%C3%B3n_funcional/code/2P_Base/code03.ipynb#Y121sZmlsZQ%3D%3D?line=0'>1</a>\u001b[0m \u001b[39mdef\u001b[39;00m \u001b[39mf\u001b[39m():\n\u001b[0;32m      <a href='vscode-notebook-cell:/c%3A/Users/walte/OneDrive%20-%20Universidad%20de%20Colima/Docencia/2023/Semestre_Agosto2023-Enero2024/programaci%C3%B3n_funcional/code/2P_Base/code03.ipynb#Y121sZmlsZQ%3D%3D?line=1'>2</a>\u001b[0m     x \u001b[39m=\u001b[39m \u001b[39m10\u001b[39m\n\u001b[1;32m----> <a href='vscode-notebook-cell:/c%3A/Users/walte/OneDrive%20-%20Universidad%20de%20Colima/Docencia/2023/Semestre_Agosto2023-Enero2024/programaci%C3%B3n_funcional/code/2P_Base/code03.ipynb#Y121sZmlsZQ%3D%3D?line=2'>3</a>\u001b[0m     f()\n",
      "\u001b[1;31mRecursionError\u001b[0m: maximum recursion depth exceeded"
     ]
    }
   ],
   "source": [
    "f()"
   ]
  },
  {
   "cell_type": "code",
   "execution_count": 5,
   "metadata": {},
   "outputs": [
    {
     "name": "stdout",
     "output_type": "stream",
     "text": [
      "3000\n"
     ]
    }
   ],
   "source": [
    "# Para conocer el límite de recursión\n",
    "import sys\n",
    "print(sys.getrecursionlimit())"
   ]
  },
  {
   "cell_type": "code",
   "execution_count": 6,
   "metadata": {},
   "outputs": [
    {
     "name": "stdout",
     "output_type": "stream",
     "text": [
      "3000\n"
     ]
    }
   ],
   "source": [
    "from sys import getrecursionlimit\n",
    "print(getrecursionlimit())"
   ]
  },
  {
   "cell_type": "code",
   "execution_count": 7,
   "metadata": {},
   "outputs": [],
   "source": [
    "# Se puede modificar el límite de recursión\n",
    "sys.setrecursionlimit(500)"
   ]
  },
  {
   "cell_type": "code",
   "execution_count": 8,
   "metadata": {},
   "outputs": [
    {
     "ename": "RecursionError",
     "evalue": "maximum recursion depth exceeded",
     "output_type": "error",
     "traceback": [
      "\u001b[1;31m---------------------------------------------------------------------------\u001b[0m",
      "\u001b[1;31mRecursionError\u001b[0m                            Traceback (most recent call last)",
      "\u001b[1;32mc:\\Users\\walte\\OneDrive - Universidad de Colima\\Docencia\\2023\\Semestre_Agosto2023-Enero2024\\programación_funcional\\code\\2P_Base\\code03.ipynb Cell 35\u001b[0m line \u001b[0;36m1\n\u001b[1;32m----> <a href='vscode-notebook-cell:/c%3A/Users/walte/OneDrive%20-%20Universidad%20de%20Colima/Docencia/2023/Semestre_Agosto2023-Enero2024/programaci%C3%B3n_funcional/code/2P_Base/code03.ipynb#Y125sZmlsZQ%3D%3D?line=0'>1</a>\u001b[0m f()\n",
      "\u001b[1;32mc:\\Users\\walte\\OneDrive - Universidad de Colima\\Docencia\\2023\\Semestre_Agosto2023-Enero2024\\programación_funcional\\code\\2P_Base\\code03.ipynb Cell 35\u001b[0m line \u001b[0;36m3\n\u001b[0;32m      <a href='vscode-notebook-cell:/c%3A/Users/walte/OneDrive%20-%20Universidad%20de%20Colima/Docencia/2023/Semestre_Agosto2023-Enero2024/programaci%C3%B3n_funcional/code/2P_Base/code03.ipynb#Y125sZmlsZQ%3D%3D?line=0'>1</a>\u001b[0m \u001b[39mdef\u001b[39;00m \u001b[39mf\u001b[39m():\n\u001b[0;32m      <a href='vscode-notebook-cell:/c%3A/Users/walte/OneDrive%20-%20Universidad%20de%20Colima/Docencia/2023/Semestre_Agosto2023-Enero2024/programaci%C3%B3n_funcional/code/2P_Base/code03.ipynb#Y125sZmlsZQ%3D%3D?line=1'>2</a>\u001b[0m     x \u001b[39m=\u001b[39m \u001b[39m10\u001b[39m\n\u001b[1;32m----> <a href='vscode-notebook-cell:/c%3A/Users/walte/OneDrive%20-%20Universidad%20de%20Colima/Docencia/2023/Semestre_Agosto2023-Enero2024/programaci%C3%B3n_funcional/code/2P_Base/code03.ipynb#Y125sZmlsZQ%3D%3D?line=2'>3</a>\u001b[0m     f()\n",
      "\u001b[1;32mc:\\Users\\walte\\OneDrive - Universidad de Colima\\Docencia\\2023\\Semestre_Agosto2023-Enero2024\\programación_funcional\\code\\2P_Base\\code03.ipynb Cell 35\u001b[0m line \u001b[0;36m3\n\u001b[0;32m      <a href='vscode-notebook-cell:/c%3A/Users/walte/OneDrive%20-%20Universidad%20de%20Colima/Docencia/2023/Semestre_Agosto2023-Enero2024/programaci%C3%B3n_funcional/code/2P_Base/code03.ipynb#Y125sZmlsZQ%3D%3D?line=0'>1</a>\u001b[0m \u001b[39mdef\u001b[39;00m \u001b[39mf\u001b[39m():\n\u001b[0;32m      <a href='vscode-notebook-cell:/c%3A/Users/walte/OneDrive%20-%20Universidad%20de%20Colima/Docencia/2023/Semestre_Agosto2023-Enero2024/programaci%C3%B3n_funcional/code/2P_Base/code03.ipynb#Y125sZmlsZQ%3D%3D?line=1'>2</a>\u001b[0m     x \u001b[39m=\u001b[39m \u001b[39m10\u001b[39m\n\u001b[1;32m----> <a href='vscode-notebook-cell:/c%3A/Users/walte/OneDrive%20-%20Universidad%20de%20Colima/Docencia/2023/Semestre_Agosto2023-Enero2024/programaci%C3%B3n_funcional/code/2P_Base/code03.ipynb#Y125sZmlsZQ%3D%3D?line=2'>3</a>\u001b[0m     f()\n",
      "    \u001b[1;31m[... skipping similar frames: f at line 3 (471 times)]\u001b[0m\n",
      "\u001b[1;32mc:\\Users\\walte\\OneDrive - Universidad de Colima\\Docencia\\2023\\Semestre_Agosto2023-Enero2024\\programación_funcional\\code\\2P_Base\\code03.ipynb Cell 35\u001b[0m line \u001b[0;36m3\n\u001b[0;32m      <a href='vscode-notebook-cell:/c%3A/Users/walte/OneDrive%20-%20Universidad%20de%20Colima/Docencia/2023/Semestre_Agosto2023-Enero2024/programaci%C3%B3n_funcional/code/2P_Base/code03.ipynb#Y125sZmlsZQ%3D%3D?line=0'>1</a>\u001b[0m \u001b[39mdef\u001b[39;00m \u001b[39mf\u001b[39m():\n\u001b[0;32m      <a href='vscode-notebook-cell:/c%3A/Users/walte/OneDrive%20-%20Universidad%20de%20Colima/Docencia/2023/Semestre_Agosto2023-Enero2024/programaci%C3%B3n_funcional/code/2P_Base/code03.ipynb#Y125sZmlsZQ%3D%3D?line=1'>2</a>\u001b[0m     x \u001b[39m=\u001b[39m \u001b[39m10\u001b[39m\n\u001b[1;32m----> <a href='vscode-notebook-cell:/c%3A/Users/walte/OneDrive%20-%20Universidad%20de%20Colima/Docencia/2023/Semestre_Agosto2023-Enero2024/programaci%C3%B3n_funcional/code/2P_Base/code03.ipynb#Y125sZmlsZQ%3D%3D?line=2'>3</a>\u001b[0m     f()\n",
      "\u001b[1;31mRecursionError\u001b[0m: maximum recursion depth exceeded"
     ]
    }
   ],
   "source": [
    "f()"
   ]
  },
  {
   "cell_type": "markdown",
   "metadata": {},
   "source": [
    "* Las funciones recursivas suelen un patrón:\n",
    "    * Hay uno o más casos base que se pueden resolver directamente sin necesidad de más recursividad.\n",
    "    * Cada llamada recursiva acerca progresivamente la solución a un caso base (mecanismo de retorno)."
   ]
  },
  {
   "cell_type": "markdown",
   "metadata": {},
   "source": [
    "\n",
    "#### 2.1.5.2 Casos base y casos recursivos.\n"
   ]
  },
  {
   "cell_type": "markdown",
   "metadata": {},
   "source": [
    "* Ejemplo: Cuenta regresiva hasta cero"
   ]
  },
  {
   "cell_type": "code",
   "execution_count": 11,
   "metadata": {},
   "outputs": [
    {
     "name": "stdout",
     "output_type": "stream",
     "text": [
      "5\n",
      "4\n",
      "3\n",
      "2\n",
      "1\n",
      "0\n"
     ]
    }
   ],
   "source": [
    "# cuenta regresiva no recursiva (iterativa)\n",
    "def cuenta_regresiva(n):\n",
    "    while n >= 0:\n",
    "        print(n)\n",
    "        n -= 1\n",
    "\n",
    "cuenta_regresiva(5)"
   ]
  },
  {
   "cell_type": "code",
   "execution_count": 9,
   "metadata": {},
   "outputs": [
    {
     "name": "stdout",
     "output_type": "stream",
     "text": [
      "5\n",
      "4\n",
      "3\n",
      "2\n",
      "1\n",
      "0\n"
     ]
    }
   ],
   "source": [
    "# cuenta regresiva recursiva\n",
    "def cuenta_regresiva(n):\n",
    "    print(n)\n",
    "    if n == 0:\n",
    "        return                      # Fin de la recursión, caso base\n",
    "    else:\n",
    "        cuenta_regresiva(n - 1)     # Llamada recursiva\n",
    "\n",
    "\n",
    "cuenta_regresiva(5)"
   ]
  },
  {
   "cell_type": "markdown",
   "metadata": {},
   "source": [
    "* El caso base se produce cuando n es cero, momento en el que se detiene la recursividad.\n",
    "* En la llamada recursiva, el argumento es uno menos que el valor actual de n, por lo que cada recursividad se acerca al caso base."
   ]
  },
  {
   "cell_type": "markdown",
   "metadata": {},
   "source": [
    "* Ejemplo: Calcular el factorial"
   ]
  },
  {
   "cell_type": "code",
   "execution_count": null,
   "metadata": {},
   "outputs": [],
   "source": [
    "# Función factorial no recursiva (iterativa)\n",
    "def factorial(n):\n",
    "    result = 1\n",
    "    for i in range(1, n+1):\n",
    "        result *= i\n",
    "    return result"
   ]
  },
  {
   "cell_type": "code",
   "execution_count": 12,
   "metadata": {},
   "outputs": [
    {
     "name": "stdout",
     "output_type": "stream",
     "text": [
      "120\n"
     ]
    }
   ],
   "source": [
    "# función factorial recursiva\n",
    "def factorial(n):\n",
    "    if n == 0:\n",
    "        return 1\n",
    "    else:\n",
    "        return n * factorial(n - 1)\n",
    "\n",
    "print(factorial(5))"
   ]
  },
  {
   "cell_type": "code",
   "execution_count": 13,
   "metadata": {},
   "outputs": [
    {
     "name": "stdout",
     "output_type": "stream",
     "text": [
      "120\n"
     ]
    }
   ],
   "source": [
    "def factorial(n):\n",
    "    return 1 if n <= 1 else n * factorial(n - 1)\n",
    "\n",
    "\n",
    "print(factorial(5))"
   ]
  },
  {
   "cell_type": "code",
   "execution_count": 14,
   "metadata": {},
   "outputs": [
    {
     "name": "stdout",
     "output_type": "stream",
     "text": [
      "factorial() llamado con n = 5\n",
      "factorial() llamado con n = 4\n",
      "factorial() llamado con n = 3\n",
      "factorial() llamado con n = 2\n",
      "factorial() llamado con n = 1\n",
      "-> factorial(1) retorna 1\n",
      "-> factorial(2) retorna 2\n",
      "-> factorial(3) retorna 6\n",
      "-> factorial(4) retorna 24\n",
      "-> factorial(5) retorna 120\n"
     ]
    },
    {
     "data": {
      "text/plain": [
       "120"
      ]
     },
     "execution_count": 14,
     "metadata": {},
     "output_type": "execute_result"
    }
   ],
   "source": [
    "def factorial(n):\n",
    "    print(f\"factorial() llamado con n = {n}\")\n",
    "    return_value = 1 if n <= 1 else n * factorial(n -1)\n",
    "    print(f\"-> factorial({n}) retorna {return_value}\")\n",
    "    return return_value\n",
    "\n",
    "\n",
    "factorial(5)"
   ]
  },
  {
   "cell_type": "markdown",
   "metadata": {},
   "source": [
    "* Calcular el tiempo de ejecución (evaluación empírica)\n",
    "* timeit(<command>, setup=<setup_string>, number=<iterations>)"
   ]
  },
  {
   "cell_type": "code",
   "execution_count": 15,
   "metadata": {},
   "outputs": [
    {
     "name": "stdout",
     "output_type": "stream",
     "text": [
      "Hola Mundo\n",
      "Hola Mundo\n",
      "Hola Mundo\n",
      "Hola Mundo\n",
      "Hola Mundo\n",
      "Hola Mundo\n",
      "Hola Mundo\n",
      "Hola Mundo\n",
      "Hola Mundo\n",
      "Hola Mundo\n",
      "Hola Mundo\n",
      "Hola Mundo\n",
      "Hola Mundo\n",
      "Hola Mundo\n",
      "Hola Mundo\n",
      "Hola Mundo\n",
      "Hola Mundo\n",
      "Hola Mundo\n",
      "Hola Mundo\n",
      "Hola Mundo\n",
      "Hola Mundo\n",
      "Hola Mundo\n",
      "Hola Mundo\n",
      "Hola Mundo\n",
      "Hola Mundo\n",
      "Hola Mundo\n",
      "Hola Mundo\n",
      "Hola Mundo\n",
      "Hola Mundo\n",
      "Hola Mundo\n",
      "Hola Mundo\n",
      "Hola Mundo\n",
      "Hola Mundo\n",
      "Hola Mundo\n",
      "Hola Mundo\n",
      "Hola Mundo\n",
      "Hola Mundo\n",
      "Hola Mundo\n",
      "Hola Mundo\n",
      "Hola Mundo\n",
      "Hola Mundo\n",
      "Hola Mundo\n",
      "Hola Mundo\n",
      "Hola Mundo\n",
      "Hola Mundo\n",
      "Hola Mundo\n",
      "Hola Mundo\n",
      "Hola Mundo\n",
      "Hola Mundo\n",
      "Hola Mundo\n",
      "Hola Mundo\n",
      "Hola Mundo\n",
      "Hola Mundo\n",
      "Hola Mundo\n",
      "Hola Mundo\n",
      "Hola Mundo\n",
      "Hola Mundo\n",
      "Hola Mundo\n",
      "Hola Mundo\n",
      "Hola Mundo\n",
      "Hola Mundo\n",
      "Hola Mundo\n",
      "Hola Mundo\n",
      "Hola Mundo\n",
      "Hola Mundo\n",
      "Hola Mundo\n",
      "Hola Mundo\n",
      "Hola Mundo\n",
      "Hola Mundo\n",
      "Hola Mundo\n",
      "Hola Mundo\n",
      "Hola Mundo\n",
      "Hola Mundo\n",
      "Hola Mundo\n",
      "Hola Mundo\n",
      "Hola Mundo\n",
      "Hola Mundo\n",
      "Hola Mundo\n",
      "Hola Mundo\n",
      "Hola Mundo\n",
      "Hola Mundo\n",
      "Hola Mundo\n",
      "Hola Mundo\n",
      "Hola Mundo\n",
      "Hola Mundo\n",
      "Hola Mundo\n",
      "Hola Mundo\n",
      "Hola Mundo\n",
      "Hola Mundo\n",
      "Hola Mundo\n",
      "Hola Mundo\n",
      "Hola Mundo\n",
      "Hola Mundo\n",
      "Hola Mundo\n",
      "Hola Mundo\n",
      "Hola Mundo\n",
      "Hola Mundo\n",
      "Hola Mundo\n",
      "Hola Mundo\n",
      "Hola Mundo\n"
     ]
    },
    {
     "data": {
      "text/plain": [
       "0.00030139999580569565"
      ]
     },
     "execution_count": 15,
     "metadata": {},
     "output_type": "execute_result"
    }
   ],
   "source": [
    "# Ejemplo iterativo\n",
    "from timeit import timeit\n",
    "\n",
    "timeit(\"print(string)\", setup=\"string='Hola Mundo'\", number=100)"
   ]
  },
  {
   "cell_type": "code",
   "execution_count": 19,
   "metadata": {},
   "outputs": [
    {
     "name": "stdout",
     "output_type": "stream",
     "text": [
      "Iterativo:\n"
     ]
    },
    {
     "data": {
      "text/plain": [
       "2.9807589999982156"
      ]
     },
     "execution_count": 19,
     "metadata": {},
     "output_type": "execute_result"
    }
   ],
   "source": [
    "# Performance algoritmo factorial iterativo\n",
    "from timeit import timeit\n",
    "\n",
    "setup_string = \"\"\"\n",
    "print(\"Iterativo:\")\n",
    "def factorial(n):\n",
    "    result = 1\n",
    "    for i in range(2, n + 1):\n",
    "        result *= i\n",
    "    return result\n",
    "\"\"\"\n",
    "\n",
    "from timeit import timeit\n",
    "timeit(\"factorial(4)\", setup=setup_string, number=10000000)"
   ]
  },
  {
   "cell_type": "code",
   "execution_count": 20,
   "metadata": {},
   "outputs": [
    {
     "name": "stdout",
     "output_type": "stream",
     "text": [
      "Recursive:\n"
     ]
    },
    {
     "data": {
      "text/plain": [
       "2.1984776000026613"
      ]
     },
     "execution_count": 20,
     "metadata": {},
     "output_type": "execute_result"
    }
   ],
   "source": [
    "# Performance algoritmo factorial iterativo\n",
    "from timeit import timeit\n",
    "\n",
    "setup_string = \"\"\"\n",
    "print(\"Recursive:\")\n",
    "def factorial(n):\n",
    "    return 1 if n <= 1 else n * factorial(n - 1)\n",
    "\"\"\"\n",
    "\n",
    "from timeit import timeit\n",
    "timeit(\"factorial(4)\", setup=setup_string, number=10_000_000)\n"
   ]
  },
  {
   "cell_type": "code",
   "execution_count": 21,
   "metadata": {},
   "outputs": [
    {
     "name": "stdout",
     "output_type": "stream",
     "text": [
      "reduce():\n"
     ]
    },
    {
     "data": {
      "text/plain": [
       "4.823884400000679"
      ]
     },
     "execution_count": 21,
     "metadata": {},
     "output_type": "execute_result"
    }
   ],
   "source": [
    "#Usando reduce\n",
    "setup_string = \"\"\"\n",
    "from functools import reduce\n",
    "print(\"reduce():\")\n",
    "def factorial(n):\n",
    "    return reduce(lambda x, y: x * y, range(1, n + 1) or [1])\n",
    "\"\"\"\n",
    "\n",
    "from timeit import timeit\n",
    "timeit(\"factorial(4)\", setup=setup_string, number=10000000)"
   ]
  },
  {
   "cell_type": "code",
   "execution_count": 22,
   "metadata": {},
   "outputs": [
    {
     "data": {
      "text/plain": [
       "24"
      ]
     },
     "execution_count": 22,
     "metadata": {},
     "output_type": "execute_result"
    }
   ],
   "source": [
    "# Python ya tiene una función factorial\n",
    "from math import factorial\n",
    "factorial(4)"
   ]
  },
  {
   "cell_type": "code",
   "execution_count": 23,
   "metadata": {},
   "outputs": [
    {
     "data": {
      "text/plain": [
       "0.2577318999974523"
      ]
     },
     "execution_count": 23,
     "metadata": {},
     "output_type": "execute_result"
    }
   ],
   "source": [
    "setup_string = \"from math import factorial\"\n",
    "\n",
    "from timeit import timeit\n",
    "timeit(\"factorial(4)\", setup=setup_string, number=10_000_000)"
   ]
  },
  {
   "cell_type": "markdown",
   "metadata": {},
   "source": [
    "\n",
    "### 2.1.6 Documentación y Comentarios\n"
   ]
  },
  {
   "cell_type": "code",
   "execution_count": null,
   "metadata": {},
   "outputs": [],
   "source": []
  },
  {
   "cell_type": "markdown",
   "metadata": {},
   "source": [
    "\n",
    "#### 2.1.6.1 Uso de docstrings para documentar funciones.\n"
   ]
  },
  {
   "cell_type": "code",
   "execution_count": null,
   "metadata": {},
   "outputs": [],
   "source": []
  },
  {
   "cell_type": "markdown",
   "metadata": {},
   "source": [
    "\n",
    "#### 2.1.6.2 Comentarios relevantes en el código.\n"
   ]
  },
  {
   "cell_type": "code",
   "execution_count": null,
   "metadata": {},
   "outputs": [],
   "source": []
  },
  {
   "cell_type": "markdown",
   "metadata": {},
   "source": [
    "\n",
    "### 2.1.7 Módulos y Organización:**\n"
   ]
  },
  {
   "cell_type": "code",
   "execution_count": null,
   "metadata": {},
   "outputs": [],
   "source": []
  },
  {
   "cell_type": "markdown",
   "metadata": {},
   "source": [
    "\n",
    "#### 2.1.7.1 Creación de módulos con funciones.\n"
   ]
  },
  {
   "cell_type": "code",
   "execution_count": null,
   "metadata": {},
   "outputs": [],
   "source": []
  },
  {
   "cell_type": "markdown",
   "metadata": {},
   "source": [
    "\n",
    "#### 2.1.7.2 Importación de funciones desde módulos.\n"
   ]
  },
  {
   "cell_type": "code",
   "execution_count": null,
   "metadata": {},
   "outputs": [],
   "source": []
  },
  {
   "cell_type": "markdown",
   "metadata": {},
   "source": [
    "\n",
    "### 2.1.8 Pruebas y Depuración:**\n"
   ]
  },
  {
   "cell_type": "code",
   "execution_count": null,
   "metadata": {},
   "outputs": [],
   "source": []
  },
  {
   "cell_type": "markdown",
   "metadata": {},
   "source": [
    "\n",
    "#### 2.1.8.1 Escribir pruebas unitarias para funciones.\n"
   ]
  },
  {
   "cell_type": "code",
   "execution_count": null,
   "metadata": {},
   "outputs": [],
   "source": []
  },
  {
   "cell_type": "markdown",
   "metadata": {},
   "source": [
    "\n",
    "#### 2.1.8.2 Uso de assertions.\n"
   ]
  },
  {
   "cell_type": "code",
   "execution_count": null,
   "metadata": {},
   "outputs": [],
   "source": []
  },
  {
   "cell_type": "markdown",
   "metadata": {},
   "source": [
    "\n",
    "## 2.2 Datos mutables e inmutables\n"
   ]
  },
  {
   "cell_type": "code",
   "execution_count": null,
   "metadata": {},
   "outputs": [],
   "source": []
  },
  {
   "cell_type": "markdown",
   "metadata": {},
   "source": [
    "\n",
    "## 2.3 Estructuras de datos mutables\n"
   ]
  },
  {
   "cell_type": "markdown",
   "metadata": {},
   "source": [
    "\n",
    "### 2.3.1 Listas (list)\n"
   ]
  },
  {
   "cell_type": "code",
   "execution_count": null,
   "metadata": {},
   "outputs": [],
   "source": []
  },
  {
   "cell_type": "markdown",
   "metadata": {},
   "source": [
    "\n",
    "### 2.3.2 Diccionarios (dict) \n"
   ]
  },
  {
   "cell_type": "code",
   "execution_count": null,
   "metadata": {},
   "outputs": [],
   "source": []
  },
  {
   "cell_type": "markdown",
   "metadata": {},
   "source": [
    "\n",
    "## 2.4 Estructuras de datos Inmutables\n"
   ]
  },
  {
   "cell_type": "markdown",
   "metadata": {},
   "source": [
    "\n",
    "### 2.4.1 Tuplas (tuple)\n"
   ]
  },
  {
   "cell_type": "code",
   "execution_count": null,
   "metadata": {},
   "outputs": [],
   "source": []
  },
  {
   "cell_type": "markdown",
   "metadata": {},
   "source": [
    "\n",
    "### 2.4.2 Tuplas nombradas (named tuples)\n"
   ]
  },
  {
   "cell_type": "code",
   "execution_count": null,
   "metadata": {},
   "outputs": [],
   "source": []
  }
 ],
 "metadata": {
  "kernelspec": {
   "display_name": "Python 3",
   "language": "python",
   "name": "python3"
  },
  "language_info": {
   "codemirror_mode": {
    "name": "ipython",
    "version": 3
   },
   "file_extension": ".py",
   "mimetype": "text/x-python",
   "name": "python",
   "nbconvert_exporter": "python",
   "pygments_lexer": "ipython3",
   "version": "3.10.7"
  }
 },
 "nbformat": 4,
 "nbformat_minor": 2
}
