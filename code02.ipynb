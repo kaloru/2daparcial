{
 "cells": [
  {
   "cell_type": "markdown",
   "metadata": {},
   "source": [
    "#### Valores de parámetros predeterminados mutables\n",
    "\n",
    "* Ejemplo:"
   ]
  },
  {
   "cell_type": "code",
   "execution_count": 2,
   "metadata": {},
   "outputs": [],
   "source": [
    "def my_function(my_list=[]):\n",
    "    my_list.append('???')\n",
    "    return my_list"
   ]
  },
  {
   "cell_type": "code",
   "execution_count": 3,
   "metadata": {},
   "outputs": [
    {
     "data": {
      "text/plain": [
       "['a', 'b', 'c', '???']"
      ]
     },
     "execution_count": 3,
     "metadata": {},
     "output_type": "execute_result"
    }
   ],
   "source": [
    "my_function([\"a\", \"b\", \"c\"])\n"
   ]
  },
  {
   "cell_type": "code",
   "execution_count": 4,
   "metadata": {},
   "outputs": [
    {
     "data": {
      "text/plain": [
       "[1, 2, 3, 4, 5, '???']"
      ]
     },
     "execution_count": 4,
     "metadata": {},
     "output_type": "execute_result"
    }
   ],
   "source": [
    "my_function([1, 2, 3, 4, 5])"
   ]
  },
  {
   "cell_type": "code",
   "execution_count": 5,
   "metadata": {},
   "outputs": [
    {
     "name": "stdout",
     "output_type": "stream",
     "text": [
      "['???']\n",
      "['???', '???']\n",
      "['???', '???', '???']\n"
     ]
    }
   ],
   "source": [
    "#Si se llama sin ningún argumento\n",
    "print(my_function())\n",
    "print(my_function())\n",
    "print(my_function())\n",
    "\"\"\"def a():\n",
    "    global num\n",
    "    num = 10\n",
    "def b():\n",
    "    y = num +10\n",
    "    print(y)\n",
    "b()\"\"\""
   ]
  },
  {
   "cell_type": "markdown",
   "metadata": {},
   "source": [
    "* Es mejor usar un argumento predeterminado que no especifique ningún argumento"
   ]
  },
  {
   "cell_type": "code",
   "execution_count": 7,
   "metadata": {},
   "outputs": [
    {
     "name": "stdout",
     "output_type": "stream",
     "text": [
      "['###']\n",
      "['###']\n",
      "['###']\n",
      "['a', 'b', 'c', '###']\n",
      "['a', 'b', 'c', '###']\n",
      "[1, 2, 3, 4, 5, '###']\n",
      "[1, 2, 3, 4, 5, '###']\n"
     ]
    }
   ],
   "source": [
    "def f(my_list=None):\n",
    "    if my_list is None:\n",
    "        my_list = []\n",
    "    my_list.append('###')\n",
    "    return my_list\n",
    "\n",
    "\n",
    "print(f())\n",
    "print(f())\n",
    "print(f())\n",
    "\n",
    "\n",
    "print(f(['a', 'b', 'c']))\n",
    "print(f(['a', 'b', 'c']))\n",
    "\n",
    "print(f([1, 2, 3, 4, 5]))\n",
    "print(f([1, 2, 3, 4, 5]))"
   ]
  },
  {
   "cell_type": "markdown",
   "metadata": {},
   "source": [
    "### 2.1.2 Retorno de Valores y uso de la palabra clave return.\n",
    "* Una instrucción *return* en una función de Python tiene dos propósitos:\n",
    "1. Al terminar la función devuelve el control de ejecución a partir de donde se llamó.\n",
    "2. Proporciona un mecanismo para regresar datos donde se llamó o asignó."
   ]
  },
  {
   "cell_type": "code",
   "execution_count": 8,
   "metadata": {},
   "outputs": [
    {
     "name": "stdout",
     "output_type": "stream",
     "text": [
      "Hola\n",
      "Mundo\n"
     ]
    }
   ],
   "source": [
    "def f1():\n",
    "    print(\"Hola\")\n",
    "    print(\"Mundo\")\n",
    "    return\n",
    "\n",
    "f1()\n",
    "\n",
    "#argumentos son a nivel de funcion, parametros son a nivel de llamada de la funcion."
   ]
  },
  {
   "cell_type": "code",
   "execution_count": 9,
   "metadata": {},
   "outputs": [
    {
     "name": "stdout",
     "output_type": "stream",
     "text": [
      "Hola\n",
      "Mundo\n"
     ]
    }
   ],
   "source": [
    "def f2():\n",
    "    print(\"Hola\")\n",
    "    print(\"Mundo\")\n",
    "\n",
    "f2()"
   ]
  },
  {
   "cell_type": "markdown",
   "metadata": {},
   "source": [
    "* *return* no necesita estar al final de una función.\n",
    "* Pueden aparecer en cualquier parte del cuerpo de una función\n",
    "* Puede aparecer incluso varias veces\n",
    "* Ejemplo:"
   ]
  },
  {
   "cell_type": "code",
   "execution_count": null,
   "metadata": {},
   "outputs": [],
   "source": []
  },
  {
   "cell_type": "markdown",
   "metadata": {},
   "source": [
    "\n",
    "#### 2.1.2.2 Funciones sin valor de retorno (None).\n"
   ]
  },
  {
   "cell_type": "code",
   "execution_count": 16,
   "metadata": {},
   "outputs": [],
   "source": [
    "def f(x):\n",
    "    if x < 0:\n",
    "        return\n",
    "    if x > 10:\n",
    "        return\n",
    "    print(x)\n",
    "    #return por defecto imprime None, que seria nada"
   ]
  },
  {
   "cell_type": "code",
   "execution_count": 15,
   "metadata": {},
   "outputs": [],
   "source": [
    "f(-3)"
   ]
  },
  {
   "cell_type": "code",
   "execution_count": 12,
   "metadata": {},
   "outputs": [],
   "source": [
    "f(15)"
   ]
  },
  {
   "cell_type": "code",
   "execution_count": 13,
   "metadata": {},
   "outputs": [
    {
     "name": "stdout",
     "output_type": "stream",
     "text": [
      "8\n"
     ]
    }
   ],
   "source": [
    "f(8)"
   ]
  },
  {
   "cell_type": "markdown",
   "metadata": {},
   "source": [
    "* Puede usarse para la comprobación de errores\n",
    "\n",
    "```python\n",
    "def f():\n",
    "    if error_cond1:\n",
    "        return\n",
    "    if error_cond2:\n",
    "        return\n",
    "    if error_cond3:\n",
    "        return\n",
    "\n",
    "    <normal processing>\n",
    "```"
   ]
  },
  {
   "cell_type": "markdown",
   "metadata": {},
   "source": [
    "* Cuando no se da ningún valor de retorno, una función devuelve el valor especial None"
   ]
  },
  {
   "cell_type": "code",
   "execution_count": 17,
   "metadata": {},
   "outputs": [
    {
     "name": "stdout",
     "output_type": "stream",
     "text": [
      "None\n"
     ]
    }
   ],
   "source": [
    "def f():\n",
    "    return\n",
    "\n",
    "#PEP8 recomienda que se ponga un espacio entre el return y el parentesis\n",
    "print(f())"
   ]
  },
  {
   "cell_type": "markdown",
   "metadata": {},
   "source": [
    "* Lo mismo pasa si el cuerpo de la función no contiene alguna declaración"
   ]
  },
  {
   "cell_type": "code",
   "execution_count": 20,
   "metadata": {},
   "outputs": [
    {
     "name": "stdout",
     "output_type": "stream",
     "text": [
      "None\n"
     ]
    }
   ],
   "source": [
    "def g():\n",
    "    pass\n",
    "\n",
    "\n",
    "print(g())"
   ]
  },
  {
   "cell_type": "markdown",
   "metadata": {},
   "source": [
    "* *None* es falso cuando se evalúa de manera booleana"
   ]
  },
  {
   "cell_type": "code",
   "execution_count": 21,
   "metadata": {},
   "outputs": [
    {
     "name": "stdout",
     "output_type": "stream",
     "text": [
      "no\n"
     ]
    }
   ],
   "source": [
    "def f():\n",
    "    return\n",
    "\n",
    "\n",
    "def g():\n",
    "    pass\n",
    "\n",
    "\n",
    "if f() or g():\n",
    "    print('yes')\n",
    "else:\n",
    "    print('no')"
   ]
  },
  {
   "cell_type": "code",
   "execution_count": 23,
   "metadata": {},
   "outputs": [
    {
     "name": "stdout",
     "output_type": "stream",
     "text": [
      "yes\n"
     ]
    }
   ],
   "source": [
    "def f():\n",
    "    return True\n",
    "\n",
    "def g():\n",
    "    pass\n",
    "\n",
    "\n",
    "if f() or g():\n",
    "    print('yes')\n",
    "else:\n",
    "    print('no')"
   ]
  },
  {
   "cell_type": "markdown",
   "metadata": {},
   "source": [
    "* Los enteros en Python son inmutables\n",
    "* Una función de Python no puede cambiar un argumento entero por efecto secundario\n",
    "* Ejemplo>"
   ]
  },
  {
   "cell_type": "code",
   "execution_count": 28,
   "metadata": {},
   "outputs": [
    {
     "name": "stdout",
     "output_type": "stream",
     "text": [
      "10\n"
     ]
    }
   ],
   "source": [
    "def double(x):\n",
    "    x *= 2\n",
    "    return x\n",
    "\n",
    "x = 5\n",
    "x=double(x)\n",
    "print(x)"
   ]
  },
  {
   "cell_type": "code",
   "execution_count": 29,
   "metadata": {},
   "outputs": [
    {
     "name": "stdout",
     "output_type": "stream",
     "text": [
      "None\n"
     ]
    }
   ],
   "source": [
    "def double(x):\n",
    "    x *= 2\n",
    "\n",
    "x = 5\n",
    "x = double(x)\n",
    "print(x)"
   ]
  },
  {
   "cell_type": "markdown",
   "metadata": {},
   "source": [
    "*  Hay casos en que es posible modificar un argumento por efecto secundario\n",
    "*  Usar un valor de retorno puede ser más claro\n",
    "*  Ejemplo:"
   ]
  },
  {
   "cell_type": "code",
   "execution_count": 30,
   "metadata": {},
   "outputs": [
    {
     "data": {
      "text/plain": [
       "[2, 4, 6, 8, 10]"
      ]
     },
     "execution_count": 30,
     "metadata": {},
     "output_type": "execute_result"
    }
   ],
   "source": [
    "def double_list(x):\n",
    "    i = 0\n",
    "    while i < len(x):\n",
    "            x[i] *= 2\n",
    "            i += 1\n",
    "\n",
    "\n",
    "a = [1, 2, 3, 4, 5]\n",
    "double_list(a)\n",
    "a"
   ]
  },
  {
   "cell_type": "markdown",
   "metadata": {},
   "source": [
    "* Usando *return*"
   ]
  },
  {
   "cell_type": "code",
   "execution_count": 33,
   "metadata": {},
   "outputs": [
    {
     "data": {
      "text/plain": [
       "[2, 4, 6, 8, 10]"
      ]
     },
     "execution_count": 33,
     "metadata": {},
     "output_type": "execute_result"
    }
   ],
   "source": [
    "def double_list(x):\n",
    "    r = []\n",
    "    for i in x:\n",
    "            r.append(i * 2)\n",
    "    return r\n",
    "\n",
    "\n",
    "a = [1, 2, 3, 4, 5]\n",
    "a = double_list(a)\n",
    "a\n"
   ]
  },
  {
   "cell_type": "markdown",
   "metadata": {},
   "source": [
    "#### 2.1.2.1 Valor de retorno en funciones.\n"
   ]
  },
  {
   "cell_type": "code",
   "execution_count": 34,
   "metadata": {},
   "outputs": [
    {
     "data": {
      "text/plain": [
       "5"
      ]
     },
     "execution_count": 34,
     "metadata": {},
     "output_type": "execute_result"
    }
   ],
   "source": [
    "def double(x):\n",
    "    x *= 2\n",
    "    return x\n",
    "\n",
    "\n",
    "x = 5\n",
    "double(x)\n",
    "x"
   ]
  },
  {
   "cell_type": "code",
   "execution_count": 35,
   "metadata": {},
   "outputs": [
    {
     "data": {
      "text/plain": [
       "10"
      ]
     },
     "execution_count": 35,
     "metadata": {},
     "output_type": "execute_result"
    }
   ],
   "source": [
    "def double(x):\n",
    "    x *= 2\n",
    "    return x\n",
    "\n",
    "x = 5\n",
    "x = double(x)\n",
    "x"
   ]
  },
  {
   "cell_type": "code",
   "execution_count": 36,
   "metadata": {},
   "outputs": [
    {
     "data": {
      "text/plain": [
       "'Hola'"
      ]
     },
     "execution_count": 36,
     "metadata": {},
     "output_type": "execute_result"
    }
   ],
   "source": [
    "def f():\n",
    "    return 'Hola'\n",
    "\n",
    "\n",
    "s = f()\n",
    "s"
   ]
  },
  {
   "cell_type": "markdown",
   "metadata": {},
   "source": [
    "* Una función puede devolver cualquier tipo de objeto.\n",
    "* Ejemplo: diccionario"
   ]
  },
  {
   "cell_type": "code",
   "execution_count": 37,
   "metadata": {},
   "outputs": [
    {
     "data": {
      "text/plain": [
       "{'name_1': 'Hugo', 'name_2': 'Paco', 'name_3': 'Luis'}"
      ]
     },
     "execution_count": 37,
     "metadata": {},
     "output_type": "execute_result"
    }
   ],
   "source": [
    "names = dict(name_1='Hugo', name_2='Paco', name_3='Luis')\n",
    "#Los argumentos nombrados en una funcion, son los que se ponen en el diccionario\n",
    "names"
   ]
  },
  {
   "cell_type": "code",
   "execution_count": 39,
   "metadata": {},
   "outputs": [
    {
     "data": {
      "text/plain": [
       "{'name_1': 'Hugo', 'name_2': 'Paco', 'name_3': 'Luis'}"
      ]
     },
     "execution_count": 39,
     "metadata": {},
     "output_type": "execute_result"
    }
   ],
   "source": [
    "def f():\n",
    "    return dict(name_1='Hugo', name_2='Paco', name_3='Luis')\n",
    "\n",
    "\n",
    "f()\n",
    "\n"
   ]
  },
  {
   "cell_type": "code",
   "execution_count": 41,
   "metadata": {},
   "outputs": [
    {
     "data": {
      "text/plain": [
       "'Luis'"
      ]
     },
     "execution_count": 41,
     "metadata": {},
     "output_type": "execute_result"
    }
   ],
   "source": [
    "f()['name_3']"
   ]
  },
  {
   "cell_type": "markdown",
   "metadata": {},
   "source": [
    "* Se puede devolver un fragmento de una cadena"
   ]
  },
  {
   "cell_type": "code",
   "execution_count": 44,
   "metadata": {},
   "outputs": [
    {
     "data": {
      "text/plain": [
       "'Mundo'"
      ]
     },
     "execution_count": 44,
     "metadata": {},
     "output_type": "execute_result"
    }
   ],
   "source": [
    "def f():\n",
    "    return 'Hola Mundo'\n",
    "\n",
    "\n",
    "f()[5:]#slices"
   ]
  },
  {
   "cell_type": "markdown",
   "metadata": {},
   "source": [
    "* Retornar listas que se pueden indizar o dividir"
   ]
  },
  {
   "cell_type": "code",
   "execution_count": 45,
   "metadata": {},
   "outputs": [
    {
     "data": {
      "text/plain": [
       "['a', 'b', 'c', 'd', 'e']"
      ]
     },
     "execution_count": 45,
     "metadata": {},
     "output_type": "execute_result"
    }
   ],
   "source": [
    "def f():\n",
    "    return ['a', 'b', 'c', 'd', 'e']\n",
    "\n",
    "\n",
    "f()"
   ]
  },
  {
   "cell_type": "code",
   "execution_count": 46,
   "metadata": {},
   "outputs": [
    {
     "data": {
      "text/plain": [
       "'c'"
      ]
     },
     "execution_count": 46,
     "metadata": {},
     "output_type": "execute_result"
    }
   ],
   "source": [
    "f()[2]"
   ]
  },
  {
   "cell_type": "code",
   "execution_count": 47,
   "metadata": {},
   "outputs": [
    {
     "data": {
      "text/plain": [
       "['e', 'd', 'c', 'b', 'a']"
      ]
     },
     "execution_count": 47,
     "metadata": {},
     "output_type": "execute_result"
    }
   ],
   "source": [
    "f()[::-1]"
   ]
  },
  {
   "cell_type": "markdown",
   "metadata": {},
   "source": [
    "* Si se especifican varias expresiones separadas por comas en una instrucción, se empaquetan y se devuelven como una tupla"
   ]
  },
  {
   "cell_type": "code",
   "execution_count": 49,
   "metadata": {},
   "outputs": [
    {
     "data": {
      "text/plain": [
       "tuple"
      ]
     },
     "execution_count": 49,
     "metadata": {},
     "output_type": "execute_result"
    }
   ],
   "source": [
    "def f():\n",
    "    return 'Hugo', 'Paco', 'Luis', 'Donald'\n",
    "\n",
    "\n",
    "type(f())"
   ]
  },
  {
   "cell_type": "code",
   "execution_count": 50,
   "metadata": {},
   "outputs": [
    {
     "data": {
      "text/plain": [
       "('Hugo', 'Paco', 'Luis', 'Donald')"
      ]
     },
     "execution_count": 50,
     "metadata": {},
     "output_type": "execute_result"
    }
   ],
   "source": [
    "names = f()\n",
    "names"
   ]
  },
  {
   "cell_type": "code",
   "execution_count": 51,
   "metadata": {},
   "outputs": [
    {
     "name": "stdout",
     "output_type": "stream",
     "text": [
      "a = Hugo, b = Paco, c = Luis, d = Donald\n"
     ]
    }
   ],
   "source": [
    "a, b, c, d = f()\n",
    "print(f'a = {a}, b = {b}, c = {c}, d = {d}')"
   ]
  },
  {
   "cell_type": "code",
   "execution_count": 52,
   "metadata": {},
   "outputs": [
    {
     "data": {
      "text/plain": [
       "'Hugo'"
      ]
     },
     "execution_count": 52,
     "metadata": {},
     "output_type": "execute_result"
    }
   ],
   "source": [
    "a,_,_,_ = f() # el _ es una variable que no se va a usar, caracter que permite omitir variables\n",
    "a"
   ]
  },
  {
   "cell_type": "markdown",
   "metadata": {},
   "source": [
    "#### 2.1.3.4 Parámetros variables (`*args` y `**kwargs`).\n",
    "\n",
    "* En ocasiones, cuando se está definiendo una función, es posible que no sepa de antemano cuántos argumentos va a tomar.\n",
    "* Ejemplo: Se desea escribir una función de Python que calcule el promedio de varios valores."
   ]
  },
  {
   "cell_type": "code",
   "execution_count": 53,
   "metadata": {},
   "outputs": [
    {
     "data": {
      "text/plain": [
       "2.0"
      ]
     },
     "execution_count": 53,
     "metadata": {},
     "output_type": "execute_result"
    }
   ],
   "source": [
    "#Opción 1\n",
    "def avg(a, b, c):\n",
    "    return (a + b + c) / 3\n",
    "\n",
    "avg(1, 2, 3)"
   ]
  },
  {
   "cell_type": "markdown",
   "metadata": {},
   "source": [
    "Restricciones:\n",
    "* el número de argumentos debe coincidir con el número de parámetros declarados.\n",
    "* No funciona esta implementación para cualquier cantidad de valores distinta a tres\n",
    "\n",
    "Si se define la función con parámetros opcionales:"
   ]
  },
  {
   "cell_type": "code",
   "execution_count": 55,
   "metadata": {},
   "outputs": [
    {
     "data": {
      "text/plain": [
       "5"
      ]
     },
     "execution_count": 55,
     "metadata": {},
     "output_type": "execute_result"
    }
   ],
   "source": [
    "def avg(a, b=0, c=0):\n",
    "    match True:\n",
    "        case True if b==0 and c==0: #guardas para que no se ejecute el resto de casos\n",
    "            avg = a\n",
    "        case True if c==0:\n",
    "            avg = (a + b)/2\n",
    "        case _:\n",
    "            avg = (a + b + c)/3\n",
    "    \n",
    "    return avg\n",
    "\n",
    "avg(5)"
   ]
  },
  {
   "cell_type": "code",
   "execution_count": 56,
   "metadata": {},
   "outputs": [
    {
     "data": {
      "text/plain": [
       "4.5"
      ]
     },
     "execution_count": 56,
     "metadata": {},
     "output_type": "execute_result"
    }
   ],
   "source": [
    "avg(5,4)"
   ]
  },
  {
   "cell_type": "code",
   "execution_count": 57,
   "metadata": {},
   "outputs": [
    {
     "data": {
      "text/plain": [
       "4.0"
      ]
     },
     "execution_count": 57,
     "metadata": {},
     "output_type": "execute_result"
    }
   ],
   "source": [
    "avg(5,4,3)"
   ]
  },
  {
   "cell_type": "code",
   "execution_count": 58,
   "metadata": {},
   "outputs": [
    {
     "data": {
      "text/plain": [
       "2.6666666666666665"
      ]
     },
     "execution_count": 58,
     "metadata": {},
     "output_type": "execute_result"
    }
   ],
   "source": [
    "avg (5, c=3)"
   ]
  },
  {
   "cell_type": "markdown",
   "metadata": {},
   "source": [
    "* Se podría enviar una lista como argumento"
   ]
  },
  {
   "cell_type": "code",
   "execution_count": 59,
   "metadata": {},
   "outputs": [
    {
     "data": {
      "text/plain": [
       "1.5"
      ]
     },
     "execution_count": 59,
     "metadata": {},
     "output_type": "execute_result"
    }
   ],
   "source": [
    "def avg(nums):\n",
    "    total = 0\n",
    "    for v in nums:\n",
    "            total += v\n",
    "    return total / len(a)\n",
    "\n",
    "\n",
    "avg([1, 2, 3])\n"
   ]
  },
  {
   "cell_type": "code",
   "execution_count": 60,
   "metadata": {},
   "outputs": [
    {
     "data": {
      "text/plain": [
       "3.75"
      ]
     },
     "execution_count": 60,
     "metadata": {},
     "output_type": "execute_result"
    }
   ],
   "source": [
    "avg([1, 2, 3, 4, 5])"
   ]
  },
  {
   "cell_type": "markdown",
   "metadata": {},
   "source": [
    "* Funciona si es una tupla"
   ]
  },
  {
   "cell_type": "code",
   "execution_count": 61,
   "metadata": {},
   "outputs": [
    {
     "data": {
      "text/plain": [
       "3.75"
      ]
     },
     "execution_count": 61,
     "metadata": {},
     "output_type": "execute_result"
    }
   ],
   "source": [
    "avg((1, 2, 3, 4, 5))"
   ]
  },
  {
   "cell_type": "markdown",
   "metadata": {},
   "source": [
    "* Funciona con un set"
   ]
  },
  {
   "cell_type": "code",
   "execution_count": 62,
   "metadata": {},
   "outputs": [
    {
     "data": {
      "text/plain": [
       "3.75"
      ]
     },
     "execution_count": 62,
     "metadata": {},
     "output_type": "execute_result"
    }
   ],
   "source": [
    "avg({1, 2, 3, 4, 5})"
   ]
  },
  {
   "cell_type": "markdown",
   "metadata": {},
   "source": [
    "* Otra forma de pasar a una función un número variable de argumentos con empaquetado y desempaquetado de tupla de argumentos utilizando el operador asterisco (*).\n",
    "* Cuando el nombre de un parámetro en una definición de función está precedido por un asterisco (*), indica el empaquetado de tupla de argumentos. \n",
    "* Todos los argumentos correspondientes en la llamada a la función se empaquetan en una tupla a la que la función puede hacer referencia por el nombre de parámetro dado. \n",
    "* Ejemplo:"
   ]
  },
  {
   "cell_type": "code",
   "execution_count": 64,
   "metadata": {},
   "outputs": [
    {
     "name": "stdout",
     "output_type": "stream",
     "text": [
      "args: (1, 2, 3)\n",
      "Tipo: <class 'tuple'>, Longitud: 3\n",
      "Valores\n",
      "1|2|3|"
     ]
    }
   ],
   "source": [
    "def f(*args):\n",
    "    print(f\"args: {args}\")\n",
    "    print(f\"Tipo: {type(args)}, Longitud: {len(args)}\")\n",
    "    print(\"Valores\")\n",
    "    for x in args:\n",
    "            print(f\"{x}\",end=\"|\")\n",
    "\n",
    "\n",
    "f(1, 2, 3)"
   ]
  },
  {
   "cell_type": "code",
   "execution_count": 77,
   "metadata": {},
   "outputs": [
    {
     "name": "stdout",
     "output_type": "stream",
     "text": [
      "args: ('Hugo', 'Paco', 'Luis', 'Donald')\n",
      "Tipo: <class 'tuple'>, Longitud: 4\n",
      "Valores\n",
      "Hugo|Paco|Luis|Donald|"
     ]
    }
   ],
   "source": [
    "f(\"Hugo\", \"Paco\", \"Luis\", \"Donald\")"
   ]
  },
  {
   "cell_type": "markdown",
   "metadata": {},
   "source": [
    "* El promedio se obtendrá así:"
   ]
  },
  {
   "cell_type": "code",
   "execution_count": 65,
   "metadata": {},
   "outputs": [
    {
     "data": {
      "text/plain": [
       "2.0"
      ]
     },
     "execution_count": 65,
     "metadata": {},
     "output_type": "execute_result"
    }
   ],
   "source": [
    "def avg(*args):\n",
    "    total = 0\n",
    "    for i in args:\n",
    "        total += i\n",
    "    return total / len(args)\n",
    "\n",
    "\n",
    "avg(1, 2, 3)"
   ]
  },
  {
   "cell_type": "code",
   "execution_count": 79,
   "metadata": {},
   "outputs": [
    {
     "data": {
      "text/plain": [
       "3.0"
      ]
     },
     "execution_count": 79,
     "metadata": {},
     "output_type": "execute_result"
    }
   ],
   "source": [
    "avg(1, 2, 3, 4, 5)"
   ]
  },
  {
   "cell_type": "code",
   "execution_count": 66,
   "metadata": {},
   "outputs": [
    {
     "data": {
      "text/plain": [
       "3.0"
      ]
     },
     "execution_count": 66,
     "metadata": {},
     "output_type": "execute_result"
    }
   ],
   "source": [
    "def avg(*args):\n",
    "    return sum(args) / len(args)\n",
    "\n",
    "\n",
    "avg(1, 2, 3, 4, 5)"
   ]
  },
  {
   "cell_type": "markdown",
   "metadata": {},
   "source": [
    "* Desempaquetamiento de la tupla"
   ]
  },
  {
   "cell_type": "code",
   "execution_count": 68,
   "metadata": {},
   "outputs": [
    {
     "name": "stdout",
     "output_type": "stream",
     "text": [
      "x = 1\n",
      "y = 2\n",
      "z = 3\n"
     ]
    }
   ],
   "source": [
    "def f(x, y, z):\n",
    "    print(f'x = {x}')\n",
    "    print(f'y = {y}')\n",
    "    print(f'z = {z}')\n",
    "\n",
    "\n",
    "f(1, 2, 3)\n"
   ]
  },
  {
   "cell_type": "code",
   "execution_count": 69,
   "metadata": {},
   "outputs": [
    {
     "name": "stdout",
     "output_type": "stream",
     "text": [
      "x = Hugo\n",
      "y = Paco\n",
      "z = Luis\n"
     ]
    }
   ],
   "source": [
    "t = (\"Hugo\", \"Paco\", \"Luis\")\n",
    "f(*t)"
   ]
  },
  {
   "cell_type": "markdown",
   "metadata": {},
   "source": [
    "* Se puede aplicar a sets y listas"
   ]
  },
  {
   "cell_type": "code",
   "execution_count": 70,
   "metadata": {},
   "outputs": [
    {
     "name": "stdout",
     "output_type": "stream",
     "text": [
      "x = 1\n",
      "y = 2\n",
      "z = 3\n"
     ]
    }
   ],
   "source": [
    "s = {1,2,3}\n",
    "f(*s)"
   ]
  },
  {
   "cell_type": "code",
   "execution_count": 71,
   "metadata": {},
   "outputs": [
    {
     "name": "stdout",
     "output_type": "stream",
     "text": [
      "x = 1\n",
      "y = 2\n",
      "z = 3\n"
     ]
    }
   ],
   "source": [
    "l = [1, 2, 3]\n",
    "f(*l)"
   ]
  },
  {
   "cell_type": "markdown",
   "metadata": {},
   "source": [
    "* Se pueden empaquetar y desempaquetar tuplas al mismo tiempo:"
   ]
  },
  {
   "cell_type": "code",
   "execution_count": 72,
   "metadata": {},
   "outputs": [
    {
     "name": "stdout",
     "output_type": "stream",
     "text": [
      "<class 'tuple'> ('Hugo', 'Paco', 'Luis')\n"
     ]
    }
   ],
   "source": [
    "def f(*args):\n",
    "    print(type(args), args)\n",
    "\n",
    "\n",
    "names = [\"Hugo\", \"Paco\", \"Luis\"]\n",
    "f(*names)"
   ]
  },
  {
   "cell_type": "markdown",
   "metadata": {},
   "source": [
    "#### Empaquetado de argumentos tipo diccionario\n",
    "* El doble asterisco (**) se puede usar con parámetros de función y argumentos de Python para especificar el empaquetado y desempaquetado de diccionarios.\n",
    "* Indica que se espera que los argumentos correspondientes sean pares key=value\n",
    "* Se empaquetan en un diccionario:"
   ]
  },
  {
   "cell_type": "code",
   "execution_count": 74,
   "metadata": {},
   "outputs": [
    {
     "name": "stdout",
     "output_type": "stream",
     "text": [
      "{'name_1': 'Hugo', 'name_2': 'Paco', 'name_3': 'Luis'}\n",
      "<class 'dict'>\n",
      "name_1 -> Hugo\n",
      "name_2 -> Paco\n",
      "name_3 -> Luis\n"
     ]
    }
   ],
   "source": [
    "def f(**kwargs):\n",
    "    print(kwargs)\n",
    "    print(type(kwargs))\n",
    "    for key, val in kwargs.items():#items recorre los elementos del diccionario\n",
    "            print(key, '->', val)\n",
    "\n",
    "\n",
    "f(name_1 = \"Hugo\", name_2 = \"Paco\", name_3 = \"Luis\")"
   ]
  },
  {
   "cell_type": "code",
   "execution_count": 75,
   "metadata": {},
   "outputs": [
    {
     "name": "stdout",
     "output_type": "stream",
     "text": [
      "{'name_1': 'Hugo', 'name_2': 'Paco', 'name_3': 'Luis'}\n",
      "<class 'dict'>\n",
      "name_1 -> Hugo\n",
      "name_2 -> Paco\n",
      "name_3 -> Luis\n"
     ]
    }
   ],
   "source": [
    "names = {\"name_1\": \"Hugo\", \"name_2\": \"Paco\", \"name_3\" : \"Luis\"}\n",
    "f(**names)"
   ]
  },
  {
   "cell_type": "markdown",
   "metadata": {},
   "source": [
    "* Desempaquetado de los argumentos tipo diccionario"
   ]
  },
  {
   "cell_type": "code",
   "execution_count": 76,
   "metadata": {},
   "outputs": [
    {
     "name": "stdout",
     "output_type": "stream",
     "text": [
      "a = Hugo\n",
      "b = Paco\n",
      "c = Luis\n"
     ]
    }
   ],
   "source": [
    "def f(a, b, c):\n",
    "    print(f'a = {a}')\n",
    "    print(f'b = {b}')\n",
    "    print(f'c = {c}')\n",
    "\n",
    "\n",
    "d = {'a': 'Hugo', 'b': \"Paco\", 'c': 'Luis'}\n",
    "f(**d)"
   ]
  },
  {
   "cell_type": "markdown",
   "metadata": {},
   "source": [
    "* Equivalente a:"
   ]
  },
  {
   "cell_type": "code",
   "execution_count": 77,
   "metadata": {},
   "outputs": [
    {
     "name": "stdout",
     "output_type": "stream",
     "text": [
      "a = Hugo\n",
      "b = Paco\n",
      "c = Luis\n"
     ]
    }
   ],
   "source": [
    "f(a='Hugo', b=\"Paco\", c='Luis')"
   ]
  },
  {
   "cell_type": "markdown",
   "metadata": {},
   "source": [
    "* Otra forma de hacerlo es:"
   ]
  },
  {
   "cell_type": "code",
   "execution_count": 80,
   "metadata": {},
   "outputs": [
    {
     "name": "stdout",
     "output_type": "stream",
     "text": [
      "a = Hugo\n",
      "b = Paco\n",
      "c = Luis\n"
     ]
    }
   ],
   "source": [
    "f(**dict(a='Hugo', b='Paco', c='Luis'))"
   ]
  },
  {
   "cell_type": "code",
   "execution_count": 7,
   "metadata": {},
   "outputs": [
    {
     "data": {
      "text/plain": [
       "{'a': 'Hugo', 'b': 'Paco', 'c': 'Luis'}"
      ]
     },
     "execution_count": 7,
     "metadata": {},
     "output_type": "execute_result"
    }
   ],
   "source": [
    "names = dict(a='Hugo', b='Paco', c='Luis')\n",
    "names"
   ]
  },
  {
   "cell_type": "markdown",
   "metadata": {},
   "source": [
    "* Combinación de todo"
   ]
  },
  {
   "cell_type": "code",
   "execution_count": 3,
   "metadata": {},
   "outputs": [
    {
     "name": "stdout",
     "output_type": "stream",
     "text": [
      "a = 1\n",
      "b = 2\n",
      "args = ('Hugo', 'Paco', 'Luis')\n",
      "kwargs = {'x': 5, 'y': 10, 'z': 15}\n"
     ]
    }
   ],
   "source": [
    "def f(a, b, *args, **kwargs):\n",
    "    print(f'a = {a}')\n",
    "    print(f'b = {b}')\n",
    "    print(f'args = {args}')\n",
    "    print(f'kwargs = {kwargs}')\n",
    "\n",
    "\n",
    "f(1, 2, 'Hugo', 'Paco', 'Luis', x=5, y=10, z=15)"
   ]
  },
  {
   "cell_type": "code",
   "execution_count": 4,
   "metadata": {},
   "outputs": [
    {
     "name": "stdout",
     "output_type": "stream",
     "text": [
      "a = 1\n",
      "b = \n",
      "args = ()\n",
      "kwargs = {'name_2': 'Paco', 'name_3': 'Luis', 'x': 5, 'y': 10, 'z': 15}\n"
     ]
    }
   ],
   "source": [
    "f(1, \"\",  name_2='Paco', name_3='Luis', x=5, y=10, z=15)"
   ]
  },
  {
   "cell_type": "markdown",
   "metadata": {},
   "source": [
    "#### Desempaquetamiento múltiple"
   ]
  },
  {
   "cell_type": "code",
   "execution_count": 6,
   "metadata": {},
   "outputs": [
    {
     "name": "stdout",
     "output_type": "stream",
     "text": [
      "1\n",
      "2\n",
      "3\n"
     ]
    }
   ],
   "source": [
    "def f(*args):\n",
    "    for i in args:\n",
    "            print(i)\n",
    "\n",
    "\n",
    "a = [1, 2, 3]\n",
    "t = (4, 5, 6)\n",
    "s = {7, 8, 9}\n",
    "\n",
    "f(*a)"
   ]
  },
  {
   "cell_type": "code",
   "execution_count": 7,
   "metadata": {},
   "outputs": [
    {
     "name": "stdout",
     "output_type": "stream",
     "text": [
      "1\n",
      "2\n",
      "3\n",
      "4\n",
      "5\n",
      "6\n"
     ]
    }
   ],
   "source": [
    "f(*a, *t)"
   ]
  },
  {
   "cell_type": "code",
   "execution_count": 8,
   "metadata": {},
   "outputs": [
    {
     "name": "stdout",
     "output_type": "stream",
     "text": [
      "1\n",
      "2\n",
      "3\n",
      "4\n",
      "5\n",
      "6\n",
      "8\n",
      "9\n",
      "7\n"
     ]
    }
   ],
   "source": [
    "f(*a, *t, *s)"
   ]
  },
  {
   "cell_type": "code",
   "execution_count": 9,
   "metadata": {},
   "outputs": [
    {
     "data": {
      "text/plain": [
       "[1, 2, 3, 4, 5, 6, 8, 9, 7]"
      ]
     },
     "execution_count": 9,
     "metadata": {},
     "output_type": "execute_result"
    }
   ],
   "source": [
    "def f(*args):\n",
    "    l = []\n",
    "    for i in args:\n",
    "            l.append(i)\n",
    "    return l\n",
    "\n",
    "\n",
    "a = [1, 2, 3]\n",
    "t = (4, 5, 6)\n",
    "s = {7, 8, 9}\n",
    "\n",
    "nums = f(*a, *t, *s)\n",
    "nums"
   ]
  },
  {
   "cell_type": "markdown",
   "metadata": {},
   "source": [
    "#### Desempaquetamiento múltiple de diccionarios"
   ]
  },
  {
   "cell_type": "code",
   "execution_count": 11,
   "metadata": {},
   "outputs": [
    {
     "name": "stdout",
     "output_type": "stream",
     "text": [
      "a -> 1\n",
      "b -> 2\n",
      "x -> 3\n",
      "y -> 4\n"
     ]
    }
   ],
   "source": [
    "def f(**kwargs):\n",
    "    for k, v in kwargs.items():\n",
    "            print(k, '->', v)\n",
    "\n",
    "\n",
    "d1 = {'a': 1, 'b': 2}\n",
    "d2 = {'x': 3, 'y': 4}\n",
    "\n",
    "f(**d1, **d2)"
   ]
  },
  {
   "cell_type": "markdown",
   "metadata": {},
   "source": [
    "* Se puede usar con iterables:"
   ]
  },
  {
   "cell_type": "code",
   "execution_count": 14,
   "metadata": {},
   "outputs": [
    {
     "name": "stdout",
     "output_type": "stream",
     "text": [
      "123456"
     ]
    }
   ],
   "source": [
    "def f(*args):\n",
    "    for i in args:\n",
    "            print(f\"{i}\", end = \"\")\n",
    "\n",
    "\n",
    "f(*[1, 2, 3], *[4, 5, 6])"
   ]
  },
  {
   "cell_type": "code",
   "execution_count": 15,
   "metadata": {},
   "outputs": [
    {
     "name": "stdout",
     "output_type": "stream",
     "text": [
      "a -> 1\n",
      "b -> 2\n",
      "x -> 3\n",
      "y -> 4\n"
     ]
    }
   ],
   "source": [
    "def f(**kwargs):\n",
    "    for k, v in kwargs.items():\n",
    "            print(k, '->', v)\n",
    "\n",
    "\n",
    "f(**{'a': 1, 'b': 2}, **{'x': 3, 'y': 4})"
   ]
  },
  {
   "cell_type": "markdown",
   "metadata": {},
   "source": [
    "#### Argumentos solo de palabra clave"
   ]
  },
  {
   "cell_type": "code",
   "execution_count": 27,
   "metadata": {},
   "outputs": [
    {
     "data": {
      "text/plain": [
       "8"
      ]
     },
     "execution_count": 27,
     "metadata": {},
     "output_type": "execute_result"
    }
   ],
   "source": [
    "def oper(x, y, *, op='+'):\n",
    "    if op == '+':\n",
    "            return x + y\n",
    "    elif op == '-':\n",
    "            return x - y\n",
    "    elif op == '/':\n",
    "            return x / y\n",
    "    else:\n",
    "            print(\"Error\")\n",
    "            return None\n",
    "\n",
    "oper(x=5, y=3)\n",
    "\n"
   ]
  },
  {
   "cell_type": "code",
   "execution_count": 21,
   "metadata": {},
   "outputs": [
    {
     "data": {
      "text/plain": [
       "8"
      ]
     },
     "execution_count": 21,
     "metadata": {},
     "output_type": "execute_result"
    }
   ],
   "source": [
    "oper(5, y=3, op='+')"
   ]
  },
  {
   "cell_type": "code",
   "execution_count": 22,
   "metadata": {},
   "outputs": [
    {
     "data": {
      "text/plain": [
       "7"
      ]
     },
     "execution_count": 22,
     "metadata": {},
     "output_type": "execute_result"
    }
   ],
   "source": [
    "oper(3, 4, op='+')"
   ]
  },
  {
   "cell_type": "code",
   "execution_count": 23,
   "metadata": {},
   "outputs": [
    {
     "data": {
      "text/plain": [
       "0.75"
      ]
     },
     "execution_count": 23,
     "metadata": {},
     "output_type": "execute_result"
    }
   ],
   "source": [
    "oper(3, 4, op='/')"
   ]
  },
  {
   "cell_type": "code",
   "execution_count": 28,
   "metadata": {},
   "outputs": [
    {
     "name": "stdout",
     "output_type": "stream",
     "text": [
      "Error\n"
     ]
    }
   ],
   "source": [
    "oper(3, 4, op =\"Hola\")"
   ]
  },
  {
   "cell_type": "code",
   "execution_count": 30,
   "metadata": {},
   "outputs": [
    {
     "data": {
      "text/plain": [
       "0.75"
      ]
     },
     "execution_count": 30,
     "metadata": {},
     "output_type": "execute_result"
    }
   ],
   "source": [
    "oper(3, 4,  op='/')"
   ]
  },
  {
   "cell_type": "markdown",
   "metadata": {},
   "source": [
    "#### Argumentos solo posicionales"
   ]
  },
  {
   "cell_type": "code",
   "execution_count": 34,
   "metadata": {},
   "outputs": [],
   "source": [
    "def f(x, y, /, z= 8):\n",
    "    print(f'x: {x}')\n",
    "    print(f'y: {y}')\n",
    "    print(f'z: {z}')"
   ]
  },
  {
   "cell_type": "code",
   "execution_count": 36,
   "metadata": {},
   "outputs": [
    {
     "name": "stdout",
     "output_type": "stream",
     "text": [
      "x: 1\n",
      "y: 2\n",
      "z: 3\n"
     ]
    }
   ],
   "source": [
    "f(1, 2, 3)"
   ]
  },
  {
   "cell_type": "code",
   "execution_count": 37,
   "metadata": {},
   "outputs": [
    {
     "name": "stdout",
     "output_type": "stream",
     "text": [
      "x: 1\n",
      "y: 2\n",
      "z: 3\n"
     ]
    }
   ],
   "source": [
    "f(1, 2, z=3)"
   ]
  },
  {
   "cell_type": "code",
   "execution_count": 38,
   "metadata": {},
   "outputs": [
    {
     "ename": "TypeError",
     "evalue": "f() got some positional-only arguments passed as keyword arguments: 'x, y'",
     "output_type": "error",
     "traceback": [
      "\u001b[1;31m---------------------------------------------------------------------------\u001b[0m",
      "\u001b[1;31mTypeError\u001b[0m                                 Traceback (most recent call last)",
      "\u001b[1;32md:\\Semestres\\Tercer Semestre\\programacion_funcional\\code02.ipynb Cell 115\u001b[0m line \u001b[0;36m<cell line: 1>\u001b[1;34m()\u001b[0m\n\u001b[1;32m----> <a href='vscode-notebook-cell:/d%3A/Semestres/Tercer%20Semestre/programacion_funcional/code02.ipynb#Y221sZmlsZQ%3D%3D?line=0'>1</a>\u001b[0m f(x\u001b[39m=\u001b[39;49m\u001b[39m1\u001b[39;49m, y\u001b[39m=\u001b[39;49m\u001b[39m2\u001b[39;49m, z\u001b[39m=\u001b[39;49m\u001b[39m3\u001b[39;49m)\n",
      "\u001b[1;31mTypeError\u001b[0m: f() got some positional-only arguments passed as keyword arguments: 'x, y'"
     ]
    }
   ],
   "source": [
    "f(x=1, y=2, z=3)"
   ]
  },
  {
   "cell_type": "markdown",
   "metadata": {},
   "source": [
    "* Combinación de solo posición y solo palabra clave (nombrado) en la misma definición de función"
   ]
  },
  {
   "cell_type": "code",
   "execution_count": 39,
   "metadata": {},
   "outputs": [],
   "source": [
    "def f(x, y, /, z, w, *, a, b):\n",
    "    print(x, y, z, w, a, b)"
   ]
  },
  {
   "cell_type": "code",
   "execution_count": 40,
   "metadata": {},
   "outputs": [
    {
     "name": "stdout",
     "output_type": "stream",
     "text": [
      "1 2 3 4 5 6\n"
     ]
    }
   ],
   "source": [
    "f(1, 2, z=3, w=4, a=5, b=6)"
   ]
  },
  {
   "cell_type": "code",
   "execution_count": 43,
   "metadata": {},
   "outputs": [
    {
     "name": "stdout",
     "output_type": "stream",
     "text": [
      "1 2 3 4 5 6\n"
     ]
    }
   ],
   "source": [
    "f(1, 2, 3, w=4, a=5, b=6)"
   ]
  },
  {
   "cell_type": "code",
   "execution_count": 44,
   "metadata": {},
   "outputs": [
    {
     "name": "stdout",
     "output_type": "stream",
     "text": [
      "1 2 3 4 5 6\n"
     ]
    }
   ],
   "source": [
    "f(1, 2, z=3, w=4, a=5, b=6)"
   ]
  },
  {
   "cell_type": "code",
   "execution_count": 35,
   "metadata": {},
   "outputs": [
    {
     "name": "stdout",
     "output_type": "stream",
     "text": [
      "1 2 3 4 5 6\n"
     ]
    }
   ],
   "source": [
    "f(1, 2, 3, 4, a=5, b=6)"
   ]
  },
  {
   "cell_type": "code",
   "execution_count": 45,
   "metadata": {},
   "outputs": [
    {
     "name": "stdout",
     "output_type": "stream",
     "text": [
      "1 2 3 4 5 6\n"
     ]
    }
   ],
   "source": [
    "f(1, 2, 3, 4, a=5,b= 6)"
   ]
  },
  {
   "cell_type": "markdown",
   "metadata": {},
   "source": [
    "#### Docstrings\n",
    "\n",
    "* **Docstrings** son cadenas de texto que se encuentran en la primera línea de una función, clase, módulo o método.\n",
    "* Se utilizan para documentar el código y se pueden acceder a través del atributo `__doc__`.\n",
    "* Ejemplo:\n"
   ]
  },
  {
   "cell_type": "code",
   "execution_count": 48,
   "metadata": {},
   "outputs": [],
   "source": [
    "def avg(*args):\n",
    "    \"\"\"Returns the average of a list of numeric values.\n",
    "        Example:        \n",
    "        avg(1,2,3)\n",
    "        output:\n",
    "        2.0\n",
    "    \"\"\"\n",
    "    return sum(args) / len(args)"
   ]
  },
  {
   "cell_type": "code",
   "execution_count": 49,
   "metadata": {},
   "outputs": [
    {
     "name": "stdout",
     "output_type": "stream",
     "text": [
      "Returns the average of a list of numeric values.\n",
      "        Example:        \n",
      "        avg(1,2,3)\n",
      "        output:\n",
      "        2.0\n",
      "    \n"
     ]
    }
   ],
   "source": [
    "print(avg.__doc__)"
   ]
  }
 ],
 "metadata": {
  "kernelspec": {
   "display_name": "Python 3",
   "language": "python",
   "name": "python3"
  },
  "language_info": {
   "codemirror_mode": {
    "name": "ipython",
    "version": 3
   },
   "file_extension": ".py",
   "mimetype": "text/x-python",
   "name": "python",
   "nbconvert_exporter": "python",
   "pygments_lexer": "ipython3",
   "version": "3.10.7"
  }
 },
 "nbformat": 4,
 "nbformat_minor": 2
}
