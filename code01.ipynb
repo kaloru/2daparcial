{
 "cells": [
  {
   "cell_type": "markdown",
   "metadata": {},
   "source": [
    "## 2.1 Funciones\n",
    "### 2.1.1 Introducción a las funciones\n",
    "\n",
    "* Prácticamente todos los lenguajes de programación actuales permiten una forma de crear funciones definidas por el usuario.\n",
    "* No siempre se denominan funciones.\n",
    "* En otros lenguajes pueden llamarse:\n",
    "  * Subrutinas\n",
    "  * Procedimientos\n",
    "  * Métodos\n",
    "  * Subprogramas"
   ]
  },
  {
   "cell_type": "markdown",
   "metadata": {},
   "source": [
    "#### 2.1.1.2 Definición y ventajas de su uso\n",
    "\n",
    "* Una función es una relación o mapeo entre una o más entradas y un conjunto de salidas.\n",
    "* En matemáticas, una función normalmente se representa como $$ y = f(x)$$\n",
    "* *f* es una función que opera sobre la entrada *x*\n",
    "* La salida de la función es *y*\n",
    "\n",
    "------------------------------\n",
    "\n",
    "* Las funciones de programación son mucho más generalizadas y versátiles que esta definición matemática.\n",
    "* En programación, una *función* es un bloque de código independiente para una tarea específica o un grupo de tareas relacionadas.\n",
    "* Ejemplos:\n",
    "  * id()\n",
    "  * len()\n",
    "  * max()\n",
    "  * min()"
   ]
  },
  {
   "cell_type": "code",
   "execution_count": 2,
   "metadata": {},
   "outputs": [
    {
     "name": "stdout",
     "output_type": "stream",
     "text": [
      "2095294186000\n",
      "5\n",
      "5\n",
      "5\n",
      "5\n"
     ]
    }
   ],
   "source": [
    "x = 10\n",
    "print( id(x))\n",
    "print (max(1,2,3,4,5))\n",
    "print (max([1,2,3,4,5]))\n",
    "print (max ({1,2,3,4,5}))\n",
    "print (max((1,2,3,4,5)))"
   ]
  },
  {
   "cell_type": "markdown",
   "metadata": {},
   "source": [
    "* **Supuesto:**\n",
    "* Al escribir un código específico útil, conforme se realice el desarrollo, es probable que ese segmento de código se use con frecuencia y se tiene que repetir muchas veces en la aplicación.\n",
    "* Se podría replicar el código todas las veces que sea necesario (copy & paste)\n",
    "* Si después es necesario modificar el código en cuestión por:\n",
    "  * algún problema que deba solucionarse o \n",
    "  * necesita mejoras de alguna manera.\n",
    "  * y hay copias del código esparcidas por toda su aplicación se deberán realizar los cambios necesarios en todos lados.<br><br>\n",
    "* **Solución:**\n",
    "* Definir una función de Python que realice la tarea.\n",
    "* En cualquier lugar de la aplicación donde necesite realizar la tarea, simplemente se llama a la función.\n",
    "* En el futuro, si decide cambiar cómo funciona, entonces solo se necesita cambiar el código en una ubicación, que es el lugar donde está defina la función.\n",
    "* Los cambios se realizarán de manera automática en todos los lugares donde sea llamada la función.\n",
    "----------\n",
    "* Esto podría decirse que es:\n",
    "  * Abstracción\n",
    "  * Reusabilidad\n",
    "* Sigue el principio del desarrollo de software de no repetirse a sí mismo (DRY: Don't Repeat Yourself)\n",
    "* Principal motivación para el uso de funciones.\n",
    "-------\n",
    "* Las funciones permiten Modularidad\n",
    "* Ejemplo de código sin modularidad\n",
    "```python\n",
    "# Programa Principal\n",
    "\n",
    "# Código para leer un archivo csv\n",
    "<sentencia 1>\n",
    "<sentencia 2>\n",
    "<sentencia 3>\n",
    "\n",
    "# Código para procesar los datos de un archivo csv\n",
    "<sentencia 4>\n",
    "<sentencia 5>\n",
    "<sentencia 6>\n",
    "\n",
    "# Código para guardar los nuevos datos en el archivo csv\n",
    "<sentencia 7>\n",
    "<sentencia 8>\n",
    "<sentencia 9>\n",
    "```\n",
    "\n",
    "* Ejempo con código modular:\n",
    "```python\n",
    "\n",
    "# Función para leer un archivo csv\n",
    "def read_file():\n",
    "    <sentencia 1>\n",
    "    <sentencia 2>\n",
    "    <sentencia 3>\n",
    "\n",
    "# Función para procesar los datos de un archivo csv\n",
    "def process_file():\n",
    "    <sentencia 4>\n",
    "    <sentencia 5>\n",
    "    <sentencia 6>\n",
    "\n",
    "# Función para guardar los nuevos datos en el archivo csv\n",
    "def write_file():\n",
    "    <sentencia 7>\n",
    "    <sentencia 8>\n",
    "    <sentencia 9>\n",
    "\n",
    "# Programa Principal\n",
    "read_file()\n",
    "process_file()\n",
    "write_file()\n",
    "```"
   ]
  },
  {
   "cell_type": "markdown",
   "metadata": {},
   "source": [
    "* Separación de espacios de nombres (Namespace)\n",
    "* Un espacio de nombres es una región de un programa en la que los identificadores tienen significado.\n",
    "* Cuando se invoca una función de Python, se crea un nuevo espacio de nombres para esa función, uno que es distinto de todos los demás espacios de nombres que ya existen.\n",
    "* Las variables se pueden definir y usar dentro de una función de Python incluso si tienen el mismo nombre que las variables definidas en otras funciones o en el programa principal. \n",
    "* no habrá confusión ni interferencia porque se mantienen en espacios de nombres separados.\n",
    "* Cuando escribe código dentro de una función, puede usar nombres e identificadores de variables sin preocuparse de si ya se usan en otros lugares fuera de la función.\n",
    "* Esto ayuda a minimizar considerablemente los errores en el código."
   ]
  },
  {
   "cell_type": "code",
   "execution_count": 6,
   "metadata": {},
   "outputs": [
    {
     "name": "stdout",
     "output_type": "stream",
     "text": [
      "Hi\n",
      "(x) : 2095378871088 \n",
      "(x) : 2095378863920 \n",
      "(x) : 2095378869872 \n"
     ]
    }
   ],
   "source": [
    "def a():\n",
    "    x = \"Hola\"\n",
    "    print(f\"(x) : {id (x):} \")\n",
    "    \n",
    "def b():\n",
    "    x = \"Hello\"\n",
    "    print(f\"(x) : {id (x):} \")\n",
    "x = \"Hi\"\n",
    "print(x)\n",
    "a()#Llamando a la funcion\n",
    "b()\n",
    "print(f\"(x) : {id (x):} \")"
   ]
  },
  {
   "cell_type": "code",
   "execution_count": 9,
   "metadata": {},
   "outputs": [
    {
     "name": "stdout",
     "output_type": "stream",
     "text": [
      "2095294186000\n",
      "2095294186000\n",
      "2095294186000\n",
      "10\n",
      "2095378581104\n"
     ]
    }
   ],
   "source": [
    "def c():\n",
    "    global x\n",
    "    x = \"Bye\"\n",
    "    print(id(x))\n",
    "\n",
    "c()\n",
    "print(id(x))\n",
    "x = 10\n",
    "print(id(x))\n",
    "\n",
    "def d():\n",
    "    print(x)\n",
    "\n",
    "d() \n",
    "y = \"Bye\"\n",
    "print (id(y))"
   ]
  },
  {
   "cell_type": "code",
   "execution_count": 12,
   "metadata": {},
   "outputs": [
    {
     "name": "stdout",
     "output_type": "stream",
     "text": [
      "Bye\n"
     ]
    }
   ],
   "source": [
    "def e():\n",
    "   global y\n",
    "   y = \"mundo\"\n",
    "   print(id(y))\n",
    "    \n",
    "print(y)"
   ]
  },
  {
   "cell_type": "markdown",
   "metadata": {},
   "source": [
    "#### 2.1.1.3 Declaración y llamada de funciones.\n",
    "\n",
    "* Una función se declaran con la palabra reservada *def*\n",
    "* Una función puede recibir parámetros\n",
    "* Una función puede retornar un valor, varios o ninguno\n",
    "* Cuando no retorna nada de manera explícita, siempre retorna *None*\n",
    "* Una función puede ser recursiva\n",
    "* Sintaxis general de una función:\n",
    "\n",
    "``` python\n",
    "def <function_name>([<parameters>]):\n",
    "    <statement(s)>\n",
    "```\n",
    "\n",
    "Donde:\n",
    "| Elemento        | Significado                                                                      |\n",
    "|-----------------|----------------------------------------------------------------------------------|\n",
    "|def              | Palabra clave para indicar que se está **def**iniendo una función                |\n",
    "|<function_name>  | Un identificador de Python válido que nombra a la función                        |\n",
    "|\\<parameters>    | Lista opcional separada por comas de parámetros que se pueden pasar a la función |\n",
    "|:                | Símbolo que indica el final del encabezado o firma de la función de Python       |\n",
    "|<statement(s)>   | Bloque de sentencias válidas de Python                                           |\n",
    "\n",
    "* Para llamar a la función:\n",
    "``` python\n",
    "<function_name>([<arguments>])\n",
    "```\n",
    "* <arguments> son los valores pasados a la función.\n",
    "* Corresponden a los <parameters> en la definición de la función.\n",
    "* Se puede definir una función que no acepte ningún argumento, pero los paréntesis aún son necesarios.\n",
    "* Tanto una definición de función como una llamada a función siempre deben incluir paréntesis, aunque estén vacíos."
   ]
  },
  {
   "cell_type": "code",
   "execution_count": null,
   "metadata": {},
   "outputs": [],
   "source": [
    "\"\"\"def suma(a,b):\n",
    "    return a+ b\n",
    "\n",
    "res = suma(5,4)\n",
    "print (res)\"\"\"\n",
    "\n",
    "\n",
    "\n",
    "\n",
    "def mi_funcion():\n",
    "    msg = \"dentro de mi_funcion\"\n",
    "    print(msg)\n",
    "\n",
    "print(\"antes de llamar a mi_funcion\")\n",
    "mi_funcion()\n",
    "print(\"despues de llamar a mi_funcion\")"
   ]
  },
  {
   "cell_type": "markdown",
   "metadata": {},
   "source": [
    "#### 2.1.1.4 Parámetros y argumentos.\n",
    "\n",
    "* Sintaxis de una función:\n",
    "\n",
    "``` python\n",
    "def <function_name>([<parameters>]):\n",
    "    <statement(s)>\n",
    "```\n",
    "\n",
    "* Llamada de una función:\n",
    "\n",
    "```python\n",
    "<function_name>([<arguments>])\n",
    "```\n",
    "\n",
    "##### Argumentos posicionales (obligatorios)\n",
    "* La forma más sencilla de pasar argumentos a una función de Python es con argumentos posicionales u obligatorios.\n",
    "* En la definición de la función se especifica una lista de parámetros separados por comas dentro del paréntesis:"
   ]
  },
  {
   "cell_type": "code",
   "execution_count": null,
   "metadata": {},
   "outputs": [],
   "source": [
    "def productos(producto, cantidad, precio):\n",
    "    print(f\" {cantidad} {producto} cuestan {precio} pesos\")\n",
    "\n",
    "productos(\"manzanas\", 5, 7.5)"
   ]
  },
  {
   "cell_type": "markdown",
   "metadata": {},
   "source": [
    "* Los parámetros (producto, cantidad y precio) se comportan como variables definidas localmente en la función.\n",
    "* Cuando se llama a la función, los argumentos que se pasan (\"manzanas\", 5, 7.5) están vinculados a los parámetros en orden\n",
    "* Como si fuera una asignación de variables:\n",
    "\n",
    "| Parámetro | Argumento |\n",
    "|-----------|-----------|\n",
    "|producto   |manzanas   |\n",
    "| cantidad  | 5         |\n",
    "| precio    | 7.5       |\n",
    "\n",
    "* Los argumentos posicionales son la forma más sencilla de pasar datos a una función\n",
    "* Ofrecen la menor flexibilidad.\n",
    "* El orden de los argumentos en la llamada debe coincidir con el orden de los parámetros en la definición. \n",
    "* Por supuesto, no hay nada que nos impida cambiar el orden especificado en la definición de la función"
   ]
  },
  {
   "cell_type": "code",
   "execution_count": null,
   "metadata": {},
   "outputs": [],
   "source": [
    "productos(5, 7.5,\"manzanas\")"
   ]
  },
  {
   "cell_type": "markdown",
   "metadata": {},
   "source": [
    "* Si se invoca la función con menos valores:\n",
    "\n",
    "```python\n",
    "productos(\"manzanas\", 5)\n",
    "```\n",
    "* Si se invoca la función con más valores:\n",
    "```python\n",
    "productos(\"manzanas\", 5, 7.5, \"prod003\")\n",
    "```"
   ]
  },
  {
   "cell_type": "code",
   "execution_count": null,
   "metadata": {},
   "outputs": [],
   "source": [
    "productos(\"manzanas\", 5)"
   ]
  },
  {
   "cell_type": "code",
   "execution_count": null,
   "metadata": {},
   "outputs": [],
   "source": [
    "productos(\"manzanas\", 5, 7.5, \"prod003\")"
   ]
  },
  {
   "cell_type": "markdown",
   "metadata": {},
   "source": [
    "##### Argumentos nombrados o de palabra clave (Keyword arguments)\n",
    "\n",
    "* Cuando se invoca a una función se pueden especificar los argumentos en el formato <palabra_clave>=\\<valor>.\n",
    "* Cada <palabra_clave> debe coincidir con un parámetro en la definición de la función de Python. \n",
    "* Por ejemplo, la función productos() se puede invocar con argumentos de palabras clave de la siguiente manera:"
   ]
  },
  {
   "cell_type": "code",
   "execution_count": 21,
   "metadata": {},
   "outputs": [
    {
     "name": "stdout",
     "output_type": "stream",
     "text": [
      " 5 manzanas cuestan 7.5 pesos\n"
     ]
    }
   ],
   "source": [
    "productos(producto=\"manzanas\", cantidad=5, precio=7.5)"
   ]
  },
  {
   "cell_type": "markdown",
   "metadata": {},
   "source": [
    "* Ahora sí es posible cambiar el orden de los parametros"
   ]
  },
  {
   "cell_type": "code",
   "execution_count": 22,
   "metadata": {},
   "outputs": [
    {
     "name": "stdout",
     "output_type": "stream",
     "text": [
      " 5 manzanas cuestan 7.5 pesos\n"
     ]
    }
   ],
   "source": [
    "productos(cantidad=5,producto=\"manzanas\", precio=7.5)"
   ]
  },
  {
   "cell_type": "code",
   "execution_count": 23,
   "metadata": {},
   "outputs": [
    {
     "name": "stdout",
     "output_type": "stream",
     "text": [
      " 5 manzanas cuestan 7.5 pesos\n"
     ]
    }
   ],
   "source": [
    "productos(precio=7.5, producto=\"manzanas\", cantidad=5 )"
   ]
  },
  {
   "cell_type": "markdown",
   "metadata": {},
   "source": [
    "* Si una palabra clave no corresponde marca error\n",
    "* de nueva cuenta todos los parámetros son necesarios"
   ]
  },
  {
   "cell_type": "code",
   "execution_count": null,
   "metadata": {},
   "outputs": [],
   "source": [
    "productos(precio=7.5, producto=\"manzanas\", cant=5 )"
   ]
  },
  {
   "cell_type": "markdown",
   "metadata": {},
   "source": [
    "* Los argumentos de palabras clave permiten flexibilidad en el orden en que se especifican los argumentos de una función\n",
    "* El número de argumentos sigue siendo estricto, deben estar todos.\n",
    "* Se puede llamar a una función utilizando argumentos posicionales y de palabras clave\n",
    "* Todos los argumentos posicionales deben ir primero"
   ]
  },
  {
   "cell_type": "code",
   "execution_count": null,
   "metadata": {},
   "outputs": [],
   "source": [
    "productos(\"manzanas\", cantidad=5, precio=7.5)"
   ]
  },
  {
   "cell_type": "code",
   "execution_count": null,
   "metadata": {},
   "outputs": [],
   "source": [
    "productos(\"manzanas\", 5, precio=7.5)"
   ]
  },
  {
   "cell_type": "code",
   "execution_count": null,
   "metadata": {},
   "outputs": [],
   "source": [
    "productos(producto=\"manzanas\", 5, precio=7.5)"
   ]
  },
  {
   "cell_type": "code",
   "execution_count": null,
   "metadata": {},
   "outputs": [],
   "source": [
    "productos(producto=\"manzanas\", cantidad=5, 7.5)"
   ]
  },
  {
   "cell_type": "markdown",
   "metadata": {},
   "source": [
    "##### Parámetros por defecto (default)\n",
    "\n",
    "* Se especifica en una definición de función de Python de la forma <nombre>=\\<valor>\n",
    "* \\<valor> se convierte en un valor predeterminado para ese parámetro.\n",
    "* Se denominan parámetros predeterminados u opcionales. \n",
    "* Ejmplo:"
   ]
  },
  {
   "cell_type": "code",
   "execution_count": 29,
   "metadata": {},
   "outputs": [
    {
     "name": "stdout",
     "output_type": "stream",
     "text": [
      " 0 productos cuestan 0.0 pesos\n"
     ]
    }
   ],
   "source": [
    "def productos(producto=\"productos\", cantidad=\"0\", precio=0.0):\n",
    "    print(f\" {cantidad} {producto} cuestan {precio} pesos\")\n",
    "\n",
    "# Invocación sin argumentos\n",
    "productos()"
   ]
  },
  {
   "cell_type": "code",
   "execution_count": 30,
   "metadata": {},
   "outputs": [
    {
     "name": "stdout",
     "output_type": "stream",
     "text": [
      " 5 manzanas cuestan 5.5 pesos\n"
     ]
    }
   ],
   "source": [
    "# Invocación con argumentos posicionales\n",
    "productos(\"manzanas\",5,5.5)"
   ]
  },
  {
   "cell_type": "code",
   "execution_count": 31,
   "metadata": {},
   "outputs": [
    {
     "name": "stdout",
     "output_type": "stream",
     "text": [
      " 5 manzanas cuestan 5.5 pesos\n"
     ]
    }
   ],
   "source": [
    "# Invocación con argumentos nombrados o de palabra clave\n",
    "productos(producto=\"manzanas\", cantidad=5, precio=5.5)"
   ]
  },
  {
   "cell_type": "code",
   "execution_count": 32,
   "metadata": {},
   "outputs": [
    {
     "name": "stdout",
     "output_type": "stream",
     "text": [
      " 5 manzanas cuestan 5.5 pesos\n"
     ]
    }
   ],
   "source": [
    "# Invocación con argumentos posicionales y nombrados o de palabra clave\n",
    "productos(\"manzanas\", cantidad=5, precio=5.5)"
   ]
  },
  {
   "cell_type": "code",
   "execution_count": 33,
   "metadata": {},
   "outputs": [
    {
     "name": "stdout",
     "output_type": "stream",
     "text": [
      " 5 manzanas cuestan 0.0 pesos\n"
     ]
    }
   ],
   "source": [
    "# Invocación con argumentos posicionales, nombrados o de palabra clave y opcionales\n",
    "productos(\"manzanas\", cantidad=5)"
   ]
  },
  {
   "cell_type": "markdown",
   "metadata": {},
   "source": [
    "\n",
    "### 2.1.2 Retorno de Valores y uso de la palabra clave return.\n"
   ]
  },
  {
   "cell_type": "code",
   "execution_count": null,
   "metadata": {},
   "outputs": [],
   "source": []
  },
  {
   "cell_type": "markdown",
   "metadata": {},
   "source": [
    "\n",
    "#### 2.1.2.1 Valor de retorno en funciones.\n"
   ]
  },
  {
   "cell_type": "code",
   "execution_count": null,
   "metadata": {},
   "outputs": [],
   "source": []
  },
  {
   "cell_type": "markdown",
   "metadata": {},
   "source": [
    "\n",
    "#### 2.1.2.2 Funciones sin valor de retorno (None).\n"
   ]
  },
  {
   "cell_type": "code",
   "execution_count": null,
   "metadata": {},
   "outputs": [],
   "source": []
  },
  {
   "cell_type": "markdown",
   "metadata": {},
   "source": [
    "\n",
    "### 2.1.3 Parámetros\n"
   ]
  },
  {
   "cell_type": "code",
   "execution_count": null,
   "metadata": {},
   "outputs": [],
   "source": []
  },
  {
   "cell_type": "markdown",
   "metadata": {},
   "source": [
    "\n",
    "#### 2.1.3.1 Parámetros posicionales.\n"
   ]
  },
  {
   "cell_type": "code",
   "execution_count": null,
   "metadata": {},
   "outputs": [],
   "source": []
  },
  {
   "cell_type": "markdown",
   "metadata": {},
   "source": [
    "\n",
    "#### 2.1.3.2 Parámetros con nombre (keyword arguments).\n"
   ]
  },
  {
   "cell_type": "code",
   "execution_count": null,
   "metadata": {},
   "outputs": [],
   "source": []
  },
  {
   "cell_type": "markdown",
   "metadata": {},
   "source": [
    "\n",
    "#### 2.1.3.3 Parámetros predeterminados.\n"
   ]
  },
  {
   "cell_type": "code",
   "execution_count": null,
   "metadata": {},
   "outputs": [],
   "source": []
  },
  {
   "cell_type": "markdown",
   "metadata": {},
   "source": [
    "\n",
    "#### 2.1.3.4 Parámetros variables (`*args` y `**kwargs`).\n"
   ]
  },
  {
   "cell_type": "code",
   "execution_count": null,
   "metadata": {},
   "outputs": [],
   "source": []
  },
  {
   "cell_type": "markdown",
   "metadata": {},
   "source": [
    "\n",
    "### 2.1.4 Funciones como Objetos\n"
   ]
  },
  {
   "cell_type": "code",
   "execution_count": null,
   "metadata": {},
   "outputs": [],
   "source": []
  },
  {
   "cell_type": "markdown",
   "metadata": {},
   "source": [
    "\n",
    "#### 2.1.4.1 Asignación de funciones a variables.\n"
   ]
  },
  {
   "cell_type": "code",
   "execution_count": null,
   "metadata": {},
   "outputs": [],
   "source": []
  },
  {
   "cell_type": "markdown",
   "metadata": {},
   "source": [
    "\n",
    "#### 2.1.4.2 Paso de funciones como argumentos.\n"
   ]
  },
  {
   "cell_type": "code",
   "execution_count": null,
   "metadata": {},
   "outputs": [],
   "source": []
  },
  {
   "cell_type": "markdown",
   "metadata": {},
   "source": [
    "\n",
    "#### 2.1.4.3 Funciones anónimas (lambda functions).\n"
   ]
  },
  {
   "cell_type": "code",
   "execution_count": null,
   "metadata": {},
   "outputs": [],
   "source": []
  },
  {
   "cell_type": "markdown",
   "metadata": {},
   "source": [
    "\n",
    "### 2.1.5 Recursión\n"
   ]
  },
  {
   "cell_type": "code",
   "execution_count": null,
   "metadata": {},
   "outputs": [],
   "source": []
  },
  {
   "cell_type": "markdown",
   "metadata": {},
   "source": [
    "\n",
    "#### 2.1.5.1 Definición de funciones recursivas.\n"
   ]
  },
  {
   "cell_type": "code",
   "execution_count": null,
   "metadata": {},
   "outputs": [],
   "source": []
  },
  {
   "cell_type": "markdown",
   "metadata": {},
   "source": [
    "\n",
    "#### 2.1.5.2 Casos base y casos recursivos.\n"
   ]
  },
  {
   "cell_type": "code",
   "execution_count": null,
   "metadata": {},
   "outputs": [],
   "source": []
  },
  {
   "cell_type": "markdown",
   "metadata": {},
   "source": [
    "\n",
    "### 2.1.6 Documentación y Comentarios\n"
   ]
  },
  {
   "cell_type": "code",
   "execution_count": null,
   "metadata": {},
   "outputs": [],
   "source": []
  },
  {
   "cell_type": "markdown",
   "metadata": {},
   "source": [
    "\n",
    "#### 2.1.6.1 Uso de docstrings para documentar funciones.\n"
   ]
  },
  {
   "cell_type": "code",
   "execution_count": null,
   "metadata": {},
   "outputs": [],
   "source": []
  },
  {
   "cell_type": "markdown",
   "metadata": {},
   "source": [
    "\n",
    "#### 2.1.6.2 Comentarios relevantes en el código.\n"
   ]
  },
  {
   "cell_type": "code",
   "execution_count": null,
   "metadata": {},
   "outputs": [],
   "source": []
  },
  {
   "cell_type": "markdown",
   "metadata": {},
   "source": [
    "\n",
    "### 2.1.7 Módulos y Organización:**\n"
   ]
  },
  {
   "cell_type": "code",
   "execution_count": null,
   "metadata": {},
   "outputs": [],
   "source": []
  },
  {
   "cell_type": "markdown",
   "metadata": {},
   "source": [
    "\n",
    "#### 2.1.7.1 Creación de módulos con funciones.\n"
   ]
  },
  {
   "cell_type": "code",
   "execution_count": null,
   "metadata": {},
   "outputs": [],
   "source": []
  },
  {
   "cell_type": "markdown",
   "metadata": {},
   "source": [
    "\n",
    "#### 2.1.7.2 Importación de funciones desde módulos.\n"
   ]
  },
  {
   "cell_type": "code",
   "execution_count": null,
   "metadata": {},
   "outputs": [],
   "source": []
  },
  {
   "cell_type": "markdown",
   "metadata": {},
   "source": [
    "\n",
    "### 2.1.8 Pruebas y Depuración:**\n"
   ]
  },
  {
   "cell_type": "code",
   "execution_count": null,
   "metadata": {},
   "outputs": [],
   "source": []
  },
  {
   "cell_type": "markdown",
   "metadata": {},
   "source": [
    "\n",
    "#### 2.1.8.1 Escribir pruebas unitarias para funciones.\n"
   ]
  },
  {
   "cell_type": "code",
   "execution_count": null,
   "metadata": {},
   "outputs": [],
   "source": []
  },
  {
   "cell_type": "markdown",
   "metadata": {},
   "source": [
    "\n",
    "#### 2.1.8.2 Uso de assertions.\n"
   ]
  },
  {
   "cell_type": "code",
   "execution_count": null,
   "metadata": {},
   "outputs": [],
   "source": []
  },
  {
   "cell_type": "markdown",
   "metadata": {},
   "source": [
    "\n",
    "## 2.2 Datos mutables e inmutables\n"
   ]
  },
  {
   "cell_type": "code",
   "execution_count": null,
   "metadata": {},
   "outputs": [],
   "source": []
  },
  {
   "cell_type": "markdown",
   "metadata": {},
   "source": [
    "\n",
    "## 2.3 Estructuras de datos mutables\n"
   ]
  },
  {
   "cell_type": "markdown",
   "metadata": {},
   "source": [
    "\n",
    "### 2.3.1 Listas (list)\n"
   ]
  },
  {
   "cell_type": "code",
   "execution_count": null,
   "metadata": {},
   "outputs": [],
   "source": []
  },
  {
   "cell_type": "markdown",
   "metadata": {},
   "source": [
    "\n",
    "### 2.3.2 Diccionarios (dict) \n"
   ]
  },
  {
   "cell_type": "code",
   "execution_count": null,
   "metadata": {},
   "outputs": [],
   "source": []
  },
  {
   "cell_type": "markdown",
   "metadata": {},
   "source": [
    "\n",
    "## 2.4 Estructuras de datos Inmutables\n"
   ]
  },
  {
   "cell_type": "markdown",
   "metadata": {},
   "source": [
    "\n",
    "### 2.4.1 Tuplas (tuple)\n"
   ]
  },
  {
   "cell_type": "code",
   "execution_count": null,
   "metadata": {},
   "outputs": [],
   "source": []
  },
  {
   "cell_type": "markdown",
   "metadata": {},
   "source": [
    "\n",
    "### 2.4.2 Tuplas nombradas (named tuples)\n"
   ]
  },
  {
   "cell_type": "code",
   "execution_count": null,
   "metadata": {},
   "outputs": [],
   "source": []
  }
 ],
 "metadata": {
  "kernelspec": {
   "display_name": "Python 3",
   "language": "python",
   "name": "python3"
  },
  "language_info": {
   "codemirror_mode": {
    "name": "ipython",
    "version": 3
   },
   "file_extension": ".py",
   "mimetype": "text/x-python",
   "name": "python",
   "nbconvert_exporter": "python",
   "pygments_lexer": "ipython3",
   "version": "3.10.7"
  }
 },
 "nbformat": 4,
 "nbformat_minor": 2
}
